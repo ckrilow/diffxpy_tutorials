{
 "cells": [
  {
   "cell_type": "code",
   "execution_count": 1,
   "metadata": {},
   "outputs": [],
   "source": [
    "%load_ext autoreload\n",
    "%autoreload 2\n",
    "\n",
    "import anndata\n",
    "import matplotlib.pyplot as plt\n",
    "import seaborn as sns\n",
    "import logging\n",
    "import numpy as np\n",
    "import pandas as pd\n",
    "import scipy.stats"
   ]
  },
  {
   "cell_type": "code",
   "execution_count": 2,
   "metadata": {},
   "outputs": [],
   "source": [
    "import diffxpy.api as de"
   ]
  },
  {
   "cell_type": "markdown",
   "metadata": {},
   "source": [
    "# Introduction"
   ]
  },
  {
   "cell_type": "markdown",
   "metadata": {},
   "source": [
    "Perfect confounding occurs frequently in differential expression assays, often if biological replicates cannot be spread across conditions: This is often the case with animals or patients. Perfect confounding implies that the corresponding design matrix is not full rank and the model underdetermined. This can be circumvented by certain tricks (where replicates are modeled as the interaction of condition and and a replicate index per condition) which essentially regress repplicates to reference replicates. This may be undesirable as the condition coefficients depend on the identity of the reference replicates and accordingly on the ordering of the replicates, which has no experiental meaning and is purely a result of sample labels. Secondly, such tricks may be hard to come up with in hard cases. Here, we show how one can solve both problems by constraining parameterse in the model. "
   ]
  },
  {
   "cell_type": "markdown",
   "metadata": {},
   "source": [
    "# Generate data:"
   ]
  },
  {
   "cell_type": "markdown",
   "metadata": {},
   "source": [
    "In this example, we have 4 biological replicates (animals, patients, cell culture replicates etc.) in a treatment experiment: 2 in each condition (treated, untreated). Accordingly, there is perfect confounding at this level. We circumvent this by constraining the biological replicate coefficients. "
   ]
  },
  {
   "cell_type": "code",
   "execution_count": 3,
   "metadata": {},
   "outputs": [
    {
     "name": "stderr",
     "output_type": "stream",
     "text": [
      "Transforming to str index.\n"
     ]
    }
   ],
   "source": [
    "from batchglm.api.models.glm_nb import Simulator\n",
    "\n",
    "sim = Simulator(num_observations=700, num_features=100)\n",
    "sim.generate_sample_description(num_batches=0, num_conditions=4)\n",
    "sim.generate_params(\n",
    "    rand_fn_loc=lambda shape: np.random.uniform(-0.1, 0.1, shape),\n",
    "    rand_fn_scale=lambda shape: np.random.uniform(0.1, 2, shape)\n",
    ")\n",
    "sim.generate_data()\n",
    "\n",
    "data = anndata.AnnData(\n",
    "    X=sim.x,\n",
    "    var=pd.DataFrame(index=[\"gene\" + str(i) for i in range(sim.x.shape[1])]),\n",
    "    obs=sim.sample_description\n",
    ")"
   ]
  },
  {
   "cell_type": "code",
   "execution_count": 4,
   "metadata": {},
   "outputs": [],
   "source": [
    "data.obs[\"individual\"] = [str(np.random.randint(0, 3)) + \"_\" + str(x) for x in data.obs[\"condition\"].values]"
   ]
  },
  {
   "cell_type": "markdown",
   "metadata": {},
   "source": [
    "# Dictionary encoding of constraint"
   ]
  },
  {
   "cell_type": "markdown",
   "metadata": {},
   "source": [
    "Now, we run a similar test, but accounting for the inter-individual difference. Note that the experimental setup is perfectly confounded so that we cannot simply write a model of the form `~1+time-individual`. Instead, we can constrain the individual effects within each time point to sum to zero so that we account for the added variance in the model but restrict the time trajectory to model the mean of the individuals at each time point."
   ]
  },
  {
   "cell_type": "markdown",
   "metadata": {},
   "source": [
    "Diffxpy allows this type of model through the constraints interface. Here, we can supply the constraint as a dictionary that contains the nested confounder (individual) that should be stratified by the covariate that it is nested in (time): `constraints_loc={\"individual\": \"time\"}`. Note that this constraint is only enforced on the location model (`constraints_loc`) because the scale model is simply an intercept here."
   ]
  },
  {
   "cell_type": "code",
   "execution_count": 5,
   "metadata": {
    "scrolled": false
   },
   "outputs": [
    {
     "name": "stderr",
     "output_type": "stream",
     "text": [
      "WARNING: Logging before flag parsing goes to stderr.\n",
      "W0903 19:28:27.676522 4556338624 data.py:398] Built constraints: individual[0_0]+individual[1_0]+individual[2_0]=0, individual[0_1]+individual[1_1]+individual[2_1]=0, individual[0_2]+individual[1_2]+individual[2_2]=0, individual[0_3]+individual[1_3]+individual[2_3]=0\n",
      "W0903 19:28:31.871695 4556338624 lazy_loader.py:50] \n",
      "The TensorFlow contrib module will not be included in TensorFlow 2.0.\n",
      "For more information, please see:\n",
      "  * https://github.com/tensorflow/community/blob/master/rfcs/20180907-contrib-sunset.md\n",
      "  * https://github.com/tensorflow/addons\n",
      "  * https://github.com/tensorflow/io (for I/O related ops)\n",
      "If you depend on functionality not listed there, please file an issue.\n",
      "\n",
      "W0903 19:28:32.783679 4556338624 deprecation.py:323] From /Users/david.fischer/gitDevelopment/batchglm/batchglm/train/tf/base_glm/estimator_graph.py:907: add_dispatch_support.<locals>.wrapper (from tensorflow.python.ops.array_ops) is deprecated and will be removed in a future version.\n",
      "Instructions for updating:\n",
      "Use tf.where in 2.0, which has the same broadcast rule as np.where\n",
      "I0903 19:28:33.341230 4556338624 estimator.py:113] training strategy:\n",
      "[{'convergence_criteria': 'all_converged',\n",
      "  'optim_algo': 'irls_gd_tr',\n",
      "  'use_batching': False}]\n",
      "I0903 19:28:33.343282 4556338624 estimator.py:116] Beginning with training sequence #1\n",
      "W0903 19:28:33.591951 123145453203456 backprop.py:820] The dtype of the watched tensor must be floating (e.g. tf.float32), got tf.int32\n",
      "W0903 19:28:33.595665 123145452666880 backprop.py:820] The dtype of the watched tensor must be floating (e.g. tf.float32), got tf.int32\n",
      "W0903 19:28:33.600518 123145453203456 backprop.py:820] The dtype of the watched tensor must be floating (e.g. tf.float32), got tf.int32\n",
      "W0903 19:28:33.602803 123145453203456 backprop.py:820] The dtype of the watched tensor must be floating (e.g. tf.float32), got tf.int32\n",
      "W0903 19:28:33.603780 123145452666880 backprop.py:820] The dtype of the watched tensor must be floating (e.g. tf.float32), got tf.int32\n",
      "I0903 19:28:36.630259 4556338624 estimator.py:118] Training sequence #1 complete\n"
     ]
    }
   ],
   "source": [
    "det_constr = de.test.wald(\n",
    "    data=data.X, \n",
    "    sample_description=data.obs,\n",
    "    gene_names=data.var_names,\n",
    "    formula_loc=\"~ 0 + condition + individual\",\n",
    "    factor_loc_totest=\"condition\",\n",
    "    constraints_loc={\"individual\": \"condition\"},\n",
    "    quick_scale=False\n",
    ")"
   ]
  },
  {
   "cell_type": "markdown",
   "metadata": {},
   "source": [
    "# Building constraints from scratch"
   ]
  },
  {
   "cell_type": "code",
   "execution_count": 6,
   "metadata": {},
   "outputs": [
    {
     "ename": "AttributeError",
     "evalue": "module 'diffxpy.api.test' has no attribute 'design_matrix'",
     "output_type": "error",
     "traceback": [
      "\u001b[0;31m---------------------------------------------------------------------------\u001b[0m",
      "\u001b[0;31mAttributeError\u001b[0m                            Traceback (most recent call last)",
      "\u001b[0;32m<ipython-input-6-7b3b7cabb7bd>\u001b[0m in \u001b[0;36m<module>\u001b[0;34m\u001b[0m\n\u001b[1;32m     10\u001b[0m \u001b[0mcoefficient_names\u001b[0m \u001b[0;34m=\u001b[0m \u001b[0;34m[\u001b[0m\u001b[0;34m'intercept'\u001b[0m\u001b[0;34m,\u001b[0m \u001b[0;34m'bio1'\u001b[0m\u001b[0;34m,\u001b[0m \u001b[0;34m'bio2'\u001b[0m\u001b[0;34m,\u001b[0m \u001b[0;34m'bio3'\u001b[0m\u001b[0;34m,\u001b[0m \u001b[0;34m'bio4'\u001b[0m\u001b[0;34m,\u001b[0m \u001b[0;34m'treatment'\u001b[0m\u001b[0;34m]\u001b[0m\u001b[0;34m\u001b[0m\u001b[0;34m\u001b[0m\u001b[0m\n\u001b[1;32m     11\u001b[0m \u001b[0mdmat_est_loc\u001b[0m \u001b[0;34m=\u001b[0m \u001b[0mpd\u001b[0m\u001b[0;34m.\u001b[0m\u001b[0mDataFrame\u001b[0m\u001b[0;34m(\u001b[0m\u001b[0mdata\u001b[0m\u001b[0;34m=\u001b[0m\u001b[0mdmat_est_loc\u001b[0m\u001b[0;34m,\u001b[0m \u001b[0mcolumns\u001b[0m\u001b[0;34m=\u001b[0m\u001b[0mcoefficient_names\u001b[0m\u001b[0;34m)\u001b[0m\u001b[0;34m\u001b[0m\u001b[0;34m\u001b[0m\u001b[0m\n\u001b[0;32m---> 12\u001b[0;31m \u001b[0mdmat_est_loc\u001b[0m \u001b[0;34m=\u001b[0m \u001b[0mde\u001b[0m\u001b[0;34m.\u001b[0m\u001b[0mtest\u001b[0m\u001b[0;34m.\u001b[0m\u001b[0mdesign_matrix\u001b[0m\u001b[0;34m(\u001b[0m\u001b[0mdmat\u001b[0m\u001b[0;34m=\u001b[0m\u001b[0mdmat_est_loc\u001b[0m\u001b[0;34m)\u001b[0m\u001b[0;34m\u001b[0m\u001b[0;34m\u001b[0m\u001b[0m\n\u001b[0m",
      "\u001b[0;31mAttributeError\u001b[0m: module 'diffxpy.api.test' has no attribute 'design_matrix'"
     ]
    }
   ],
   "source": [
    "ncells = 2000\n",
    "dmat_est_loc = np.zeros([ncells, 6])\n",
    "dmat_est_loc[:,0] = 1\n",
    "dmat_est_loc[:500,1] = 1 # bio rep 1\n",
    "dmat_est_loc[500:1000,2] = 1 # bio rep 2\n",
    "dmat_est_loc[1000:1500,3] = 1 # bio rep 3\n",
    "dmat_est_loc[1500:2000,4] = 1 # bio rep 4\n",
    "dmat_est_loc[1000:2000,5] = 1 # condition effect\n",
    "\n",
    "coefficient_names = ['intercept', 'bio1', 'bio2', 'bio3', 'bio4', 'treatment']\n",
    "dmat_est_loc = pd.DataFrame(data=dmat_est_loc, columns=coefficient_names)\n",
    "dmat_est_loc = de.test.design_matrix(dmat=dmat_est_loc)"
   ]
  },
  {
   "cell_type": "code",
   "execution_count": null,
   "metadata": {},
   "outputs": [],
   "source": [
    "dmat_est_scale = np.ones([ncells, 1])\n",
    "dmat_est_scale = pd.DataFrame(data=dmat_est_scale, columns=['intercept'])\n",
    "dmat_est_scale = de.test.design_matrix(dmat=dmat_est_scale)"
   ]
  },
  {
   "cell_type": "code",
   "execution_count": null,
   "metadata": {},
   "outputs": [],
   "source": [
    "print(np.unique(dmat_est_loc.data_vars[\"design\"], axis=0))"
   ]
  },
  {
   "cell_type": "markdown",
   "metadata": {},
   "source": [
    "Define equality constraints that constrain groups of parameters of confounding variable to sum to zero. These constraints make the perfectly confounded epxerimental design identifiable. Here, we have two groups of biological replicates, such as individuals, per condition. Each of these groups is forced to sum to zero so that the treatment effect is the difference between the means of the sample values in log space (inverse linker space). These constraints are encoded as strings. Note that the coefficient names have to be the exactly as defined in the design matrix."
   ]
  },
  {
   "cell_type": "code",
   "execution_count": null,
   "metadata": {},
   "outputs": [],
   "source": [
    "constraints_loc = de.utils.data_utils.build_equality_constraints_string(\n",
    "    dmat=dmat_est_loc,\n",
    "    constraints=[\"bio1+bio2=0\", \"bio3+bio4=0\"],\n",
    "    dims=[\"design_loc_params\", \"loc_params\"]\n",
    ")"
   ]
  },
  {
   "cell_type": "markdown",
   "metadata": {},
   "source": [
    "The scale model only has an intercept and no perfect confounding, accordingly, no constraints are necessary:"
   ]
  },
  {
   "cell_type": "code",
   "execution_count": null,
   "metadata": {},
   "outputs": [],
   "source": [
    "constraints_scale = None"
   ]
  }
 ],
 "metadata": {
  "kernelspec": {
   "display_name": "Python 3",
   "language": "python",
   "name": "python3"
  },
  "language_info": {
   "codemirror_mode": {
    "name": "ipython",
    "version": 3
   },
   "file_extension": ".py",
   "mimetype": "text/x-python",
   "name": "python",
   "nbconvert_exporter": "python",
   "pygments_lexer": "ipython3",
   "version": "3.6.8"
  },
  "toc": {
   "base_numbering": 1,
   "nav_menu": {},
   "number_sections": false,
   "sideBar": true,
   "skip_h1_title": false,
   "title_cell": "Table of Contents",
   "title_sidebar": "Contents",
   "toc_cell": false,
   "toc_position": {
    "height": "calc(100% - 180px)",
    "left": "10px",
    "top": "150px",
    "width": "212px"
   },
   "toc_section_display": true,
   "toc_window_display": true
  }
 },
 "nbformat": 4,
 "nbformat_minor": 1
}
