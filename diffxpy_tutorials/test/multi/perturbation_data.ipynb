{
 "cells": [
  {
   "cell_type": "code",
   "execution_count": 1,
   "metadata": {},
   "outputs": [],
   "source": [
    "%matplotlib inline\n",
    "import matplotlib.pyplot as plt\n",
    "import seaborn as sns\n",
    "import logging\n",
    "import scipy.stats\n",
    "import numpy as np\n",
    "\n",
    "import diffxpy.api as de"
   ]
  },
  {
   "cell_type": "markdown",
   "metadata": {},
   "source": [
    "# Simulate data"
   ]
  },
  {
   "cell_type": "markdown",
   "metadata": {},
   "source": [
    "Here we simualte data from 40 groups, in a perturbation experiment this would correspond to different genetic groups, ie. different perturbations."
   ]
  },
  {
   "cell_type": "code",
   "execution_count": 2,
   "metadata": {},
   "outputs": [],
   "source": [
    "from batchglm.api.models.glm_nb import Simulator\n",
    "\n",
    "sim = Simulator(num_observations=2000, num_features=20)\n",
    "sim.generate_sample_description(num_batches=0, num_conditions=50)\n",
    "sim.generate_params()\n",
    "sim.generate_data()"
   ]
  },
  {
   "cell_type": "markdown",
   "metadata": {},
   "source": [
    "# Run differential expression test:"
   ]
  },
  {
   "cell_type": "markdown",
   "metadata": {},
   "source": [
    "The pairwise test allows to perform pairwise comparisons between a set of groups.\n",
    "\n",
    "It needs a parameter `grouping` which assigns a group to each sample.\n",
    "This `grouping` can either be a vector of length `num_observations` or a string specifying a column in the sample description.\n",
    "Since we simulated `grouping` with `num_batches=40` different groups, the pairwise test matrix would be very large with $40*40 = 1600$ comparisons per gene. \n",
    "\n",
    "To avoid creating a matrix with all comparisons, we chose the z-test with the option lazy=True, so that the comparisons are not all executed but are only evaluated upon request of specific pairs (lazy). This is very fast for the z-test once the model was fit."
   ]
  },
  {
   "cell_type": "code",
   "execution_count": 3,
   "metadata": {},
   "outputs": [
    {
     "name": "stdout",
     "output_type": "stream",
     "text": [
      "INFO:diffxpy.testing.base:Fitting model...\n"
     ]
    },
    {
     "name": "stderr",
     "output_type": "stream",
     "text": [
      "/Users/david.fischer/miniconda3/lib/python3.6/site-packages/tensorflow/python/util/tf_inspect.py:75: DeprecationWarning: inspect.getargspec() is deprecated, use inspect.signature() or inspect.getfullargspec()\n",
      "  return _inspect.getargspec(target)\n",
      "/Users/david.fischer/miniconda3/lib/python3.6/site-packages/tensorflow/python/util/tf_inspect.py:75: DeprecationWarning: inspect.getargspec() is deprecated, use inspect.signature() or inspect.getfullargspec()\n",
      "  return _inspect.getargspec(target)\n",
      "/Users/david.fischer/miniconda3/lib/python3.6/site-packages/tensorflow/python/util/tf_inspect.py:75: DeprecationWarning: inspect.getargspec() is deprecated, use inspect.signature() or inspect.getfullargspec()\n",
      "  return _inspect.getargspec(target)\n",
      "/Users/david.fischer/miniconda3/lib/python3.6/site-packages/tensorflow/python/util/tf_inspect.py:75: DeprecationWarning: inspect.getargspec() is deprecated, use inspect.signature() or inspect.getfullargspec()\n",
      "  return _inspect.getargspec(target)\n",
      "/Users/david.fischer/gitDevelopment/diffxpy/diffxpy/testing/base.py:1386: RuntimeWarning: invalid value encountered in sqrt\n",
      "  self._theta_sd = np.sqrt(np.diagonal(model_estim.fisher_inv, axis1=-2, axis2=-1)).T\n"
     ]
    }
   ],
   "source": [
    "logging.getLogger(\"tensorflow\").setLevel(logging.ERROR)\n",
    "logging.getLogger(\"batchglm\").setLevel(logging.INFO)\n",
    "logging.getLogger(\"diffxpy\").setLevel(logging.INFO)\n",
    "\n",
    "import diffxpy.api as de\n",
    "\n",
    "test = de.test.pairwise(\n",
    "    data=sim.X,\n",
    "    grouping=\"condition\",\n",
    "    test=\"z-test\",\n",
    "    lazy=True,\n",
    "    noise_model=\"nb\",\n",
    "    quick_scale=False,\n",
    "    sample_description=sim.sample_description,\n",
    "    batch_size=100,\n",
    "    training_strategy=\"DEFAULT\",\n",
    "    dtype=\"float64\"\n",
    ")\n"
   ]
  },
  {
   "cell_type": "markdown",
   "metadata": {},
   "source": [
    "# Obtaining the results"
   ]
  },
  {
   "cell_type": "markdown",
   "metadata": {},
   "source": [
    "## Enquire sets of pairwise comparisons"
   ]
  },
  {
   "cell_type": "markdown",
   "metadata": {},
   "source": [
    "We can now extract specific pairs of comparisons, for example perturbation 0 (negative control) versus all other perturbations:"
   ]
  },
  {
   "cell_type": "code",
   "execution_count": 4,
   "metadata": {},
   "outputs": [
    {
     "name": "stderr",
     "output_type": "stream",
     "text": [
      "/Users/david.fischer/miniconda3/lib/python3.6/site-packages/scipy/stats/_distn_infrastructure.py:879: RuntimeWarning: invalid value encountered in greater\n",
      "  return (self.a < x) & (x < self.b)\n",
      "/Users/david.fischer/miniconda3/lib/python3.6/site-packages/scipy/stats/_distn_infrastructure.py:879: RuntimeWarning: invalid value encountered in less\n",
      "  return (self.a < x) & (x < self.b)\n",
      "/Users/david.fischer/miniconda3/lib/python3.6/site-packages/scipy/stats/_distn_infrastructure.py:1738: RuntimeWarning: invalid value encountered in greater_equal\n",
      "  cond2 = (x >= self.b) & cond0\n"
     ]
    },
    {
     "data": {
      "text/plain": [
       "(1, 50, 20)"
      ]
     },
     "execution_count": 4,
     "metadata": {},
     "output_type": "execute_result"
    }
   ],
   "source": [
    "test.pval_pairs(groups0='0').shape"
   ]
  },
  {
   "cell_type": "markdown",
   "metadata": {},
   "source": [
    "Note that leaving group1 to the default resulted in a comparison of group 0 against all groups. The output array has shape 1 (length groups0) x 40 (length groups1) x 20 (number of genes)."
   ]
  },
  {
   "cell_type": "markdown",
   "metadata": {},
   "source": [
    "One can look at a gene-wise summary table which contains summaries across all tests for each gene, i.e. maximum test values across all test for each gene (refer to the documenation of test.summary_pairs):"
   ]
  },
  {
   "cell_type": "code",
   "execution_count": 5,
   "metadata": {
    "scrolled": true
   },
   "outputs": [
    {
     "name": "stderr",
     "output_type": "stream",
     "text": [
      "/Users/david.fischer/miniconda3/lib/python3.6/site-packages/scipy/stats/_distn_infrastructure.py:879: RuntimeWarning: invalid value encountered in greater\n",
      "  return (self.a < x) & (x < self.b)\n",
      "/Users/david.fischer/miniconda3/lib/python3.6/site-packages/scipy/stats/_distn_infrastructure.py:879: RuntimeWarning: invalid value encountered in less\n",
      "  return (self.a < x) & (x < self.b)\n",
      "/Users/david.fischer/miniconda3/lib/python3.6/site-packages/scipy/stats/_distn_infrastructure.py:1738: RuntimeWarning: invalid value encountered in greater_equal\n",
      "  cond2 = (x >= self.b) & cond0\n"
     ]
    },
    {
     "data": {
      "text/html": [
       "<div>\n",
       "<style scoped>\n",
       "    .dataframe tbody tr th:only-of-type {\n",
       "        vertical-align: middle;\n",
       "    }\n",
       "\n",
       "    .dataframe tbody tr th {\n",
       "        vertical-align: top;\n",
       "    }\n",
       "\n",
       "    .dataframe thead th {\n",
       "        text-align: right;\n",
       "    }\n",
       "</style>\n",
       "<table border=\"1\" class=\"dataframe\">\n",
       "  <thead>\n",
       "    <tr style=\"text-align: right;\">\n",
       "      <th></th>\n",
       "      <th>gene</th>\n",
       "      <th>pval</th>\n",
       "      <th>qval</th>\n",
       "      <th>log2fc</th>\n",
       "      <th>mean</th>\n",
       "    </tr>\n",
       "  </thead>\n",
       "  <tbody>\n",
       "    <tr>\n",
       "      <th>0</th>\n",
       "      <td>0</td>\n",
       "      <td>2.668580e-05</td>\n",
       "      <td>3.978973e-04</td>\n",
       "      <td>1.013137</td>\n",
       "      <td>638.3275</td>\n",
       "    </tr>\n",
       "    <tr>\n",
       "      <th>1</th>\n",
       "      <td>1</td>\n",
       "      <td>NaN</td>\n",
       "      <td>NaN</td>\n",
       "      <td>0.950364</td>\n",
       "      <td>489.2615</td>\n",
       "    </tr>\n",
       "    <tr>\n",
       "      <th>2</th>\n",
       "      <td>2</td>\n",
       "      <td>3.411718e-09</td>\n",
       "      <td>4.260383e-07</td>\n",
       "      <td>0.852783</td>\n",
       "      <td>667.7560</td>\n",
       "    </tr>\n",
       "    <tr>\n",
       "      <th>3</th>\n",
       "      <td>3</td>\n",
       "      <td>4.732726e-06</td>\n",
       "      <td>1.181998e-04</td>\n",
       "      <td>0.983110</td>\n",
       "      <td>570.1865</td>\n",
       "    </tr>\n",
       "    <tr>\n",
       "      <th>4</th>\n",
       "      <td>4</td>\n",
       "      <td>1.490201e-04</td>\n",
       "      <td>1.431452e-03</td>\n",
       "      <td>0.699208</td>\n",
       "      <td>645.8100</td>\n",
       "    </tr>\n",
       "    <tr>\n",
       "      <th>5</th>\n",
       "      <td>5</td>\n",
       "      <td>8.072880e-09</td>\n",
       "      <td>7.331643e-07</td>\n",
       "      <td>1.303666</td>\n",
       "      <td>634.8930</td>\n",
       "    </tr>\n",
       "    <tr>\n",
       "      <th>6</th>\n",
       "      <td>6</td>\n",
       "      <td>8.365217e-04</td>\n",
       "      <td>5.255882e-03</td>\n",
       "      <td>1.047486</td>\n",
       "      <td>638.4090</td>\n",
       "    </tr>\n",
       "    <tr>\n",
       "      <th>7</th>\n",
       "      <td>7</td>\n",
       "      <td>2.182553e-07</td>\n",
       "      <td>1.147563e-05</td>\n",
       "      <td>1.367049</td>\n",
       "      <td>606.5365</td>\n",
       "    </tr>\n",
       "    <tr>\n",
       "      <th>8</th>\n",
       "      <td>8</td>\n",
       "      <td>1.320851e-08</td>\n",
       "      <td>1.078521e-06</td>\n",
       "      <td>0.631605</td>\n",
       "      <td>600.0685</td>\n",
       "    </tr>\n",
       "    <tr>\n",
       "      <th>9</th>\n",
       "      <td>9</td>\n",
       "      <td>3.033964e-10</td>\n",
       "      <td>7.577326e-08</td>\n",
       "      <td>1.403712</td>\n",
       "      <td>646.7240</td>\n",
       "    </tr>\n",
       "  </tbody>\n",
       "</table>\n",
       "</div>"
      ],
      "text/plain": [
       "   gene          pval          qval    log2fc      mean\n",
       "0     0  2.668580e-05  3.978973e-04  1.013137  638.3275\n",
       "1     1           NaN           NaN  0.950364  489.2615\n",
       "2     2  3.411718e-09  4.260383e-07  0.852783  667.7560\n",
       "3     3  4.732726e-06  1.181998e-04  0.983110  570.1865\n",
       "4     4  1.490201e-04  1.431452e-03  0.699208  645.8100\n",
       "5     5  8.072880e-09  7.331643e-07  1.303666  634.8930\n",
       "6     6  8.365217e-04  5.255882e-03  1.047486  638.4090\n",
       "7     7  2.182553e-07  1.147563e-05  1.367049  606.5365\n",
       "8     8  1.320851e-08  1.078521e-06  0.631605  600.0685\n",
       "9     9  3.033964e-10  7.577326e-08  1.403712  646.7240"
      ]
     },
     "execution_count": 5,
     "metadata": {},
     "output_type": "execute_result"
    }
   ],
   "source": [
    "test.summary_pairs(groups0='0').iloc[:10,:]"
   ]
  },
  {
   "cell_type": "markdown",
   "metadata": {},
   "source": [
    "## Enquire specific a specific pair of groups"
   ]
  },
  {
   "cell_type": "markdown",
   "metadata": {},
   "source": [
    "Alternatively, you could speicfically enquire a comparison between group 3 and 6:"
   ]
  },
  {
   "cell_type": "code",
   "execution_count": 6,
   "metadata": {},
   "outputs": [
    {
     "data": {
      "text/plain": [
       "array([[[5.97779647e-03, 1.35173718e-07, 8.23822164e-06, 7.28436147e-01,\n",
       "         2.59056038e-01, 1.28729135e-02, 1.13659330e-01, 2.67091746e-03,\n",
       "         4.75259172e-03, 1.66697946e-02, 3.53544729e-01, 2.39231748e-01,\n",
       "         1.35571109e-01, 8.73283311e-01, 5.41368237e-01, 8.79148885e-05,\n",
       "         2.37785391e-09, 2.26118205e-06, 4.08627777e-01, 4.53535484e-01]]])"
      ]
     },
     "execution_count": 6,
     "metadata": {},
     "output_type": "execute_result"
    }
   ],
   "source": [
    "test.pval_pairs(groups0='3', groups1='6')"
   ]
  },
  {
   "cell_type": "code",
   "execution_count": 7,
   "metadata": {},
   "outputs": [
    {
     "data": {
      "text/plain": [
       "(1, 1, 20)"
      ]
     },
     "execution_count": 7,
     "metadata": {},
     "output_type": "execute_result"
    }
   ],
   "source": [
    "test.pval_pairs(groups0='3', groups1='6').shape"
   ]
  },
  {
   "cell_type": "markdown",
   "metadata": {},
   "source": [
    "Similarly, you can also look at summary tables of your selection:"
   ]
  },
  {
   "cell_type": "code",
   "execution_count": 8,
   "metadata": {},
   "outputs": [
    {
     "data": {
      "text/plain": [
       "array([[[-0.44280891, -1.34214846, -0.84676601,  0.08860507,\n",
       "          0.19500511, -0.51743878, -0.27103217, -0.53845934,\n",
       "          0.5337684 , -0.42971055, -0.27820667,  0.19151138,\n",
       "         -0.21618617,  0.03981095,  0.0919207 , -0.72986699,\n",
       "          0.82566278,  0.82933637, -0.15624134, -0.18243065]]])"
      ]
     },
     "execution_count": 8,
     "metadata": {},
     "output_type": "execute_result"
    }
   ],
   "source": [
    "test.log_fold_change_pairs(groups0='3', groups1='6')"
   ]
  },
  {
   "cell_type": "code",
   "execution_count": 9,
   "metadata": {
    "scrolled": true
   },
   "outputs": [
    {
     "data": {
      "text/html": [
       "<div>\n",
       "<style scoped>\n",
       "    .dataframe tbody tr th:only-of-type {\n",
       "        vertical-align: middle;\n",
       "    }\n",
       "\n",
       "    .dataframe tbody tr th {\n",
       "        vertical-align: top;\n",
       "    }\n",
       "\n",
       "    .dataframe thead th {\n",
       "        text-align: right;\n",
       "    }\n",
       "</style>\n",
       "<table border=\"1\" class=\"dataframe\">\n",
       "  <thead>\n",
       "    <tr style=\"text-align: right;\">\n",
       "      <th></th>\n",
       "      <th>gene</th>\n",
       "      <th>pval</th>\n",
       "      <th>qval</th>\n",
       "      <th>log2fc</th>\n",
       "      <th>mean</th>\n",
       "    </tr>\n",
       "  </thead>\n",
       "  <tbody>\n",
       "    <tr>\n",
       "      <th>0</th>\n",
       "      <td>0</td>\n",
       "      <td>5.977796e-03</td>\n",
       "      <td>0.014944</td>\n",
       "      <td>-0.638838</td>\n",
       "      <td>638.3275</td>\n",
       "    </tr>\n",
       "    <tr>\n",
       "      <th>1</th>\n",
       "      <td>1</td>\n",
       "      <td>1.351737e-07</td>\n",
       "      <td>0.000001</td>\n",
       "      <td>-1.936311</td>\n",
       "      <td>489.2615</td>\n",
       "    </tr>\n",
       "    <tr>\n",
       "      <th>2</th>\n",
       "      <td>2</td>\n",
       "      <td>8.238222e-06</td>\n",
       "      <td>0.000041</td>\n",
       "      <td>-1.221625</td>\n",
       "      <td>667.7560</td>\n",
       "    </tr>\n",
       "    <tr>\n",
       "      <th>3</th>\n",
       "      <td>3</td>\n",
       "      <td>7.284361e-01</td>\n",
       "      <td>0.766775</td>\n",
       "      <td>0.127830</td>\n",
       "      <td>570.1865</td>\n",
       "    </tr>\n",
       "    <tr>\n",
       "      <th>4</th>\n",
       "      <td>4</td>\n",
       "      <td>2.590560e-01</td>\n",
       "      <td>0.370080</td>\n",
       "      <td>0.281333</td>\n",
       "      <td>645.8100</td>\n",
       "    </tr>\n",
       "    <tr>\n",
       "      <th>5</th>\n",
       "      <td>5</td>\n",
       "      <td>1.287291e-02</td>\n",
       "      <td>0.028606</td>\n",
       "      <td>-0.746506</td>\n",
       "      <td>634.8930</td>\n",
       "    </tr>\n",
       "    <tr>\n",
       "      <th>6</th>\n",
       "      <td>6</td>\n",
       "      <td>1.136593e-01</td>\n",
       "      <td>0.206653</td>\n",
       "      <td>-0.391017</td>\n",
       "      <td>638.4090</td>\n",
       "    </tr>\n",
       "    <tr>\n",
       "      <th>7</th>\n",
       "      <td>7</td>\n",
       "      <td>2.670917e-03</td>\n",
       "      <td>0.008903</td>\n",
       "      <td>-0.776833</td>\n",
       "      <td>606.5365</td>\n",
       "    </tr>\n",
       "    <tr>\n",
       "      <th>8</th>\n",
       "      <td>8</td>\n",
       "      <td>4.752592e-03</td>\n",
       "      <td>0.013579</td>\n",
       "      <td>0.770065</td>\n",
       "      <td>600.0685</td>\n",
       "    </tr>\n",
       "    <tr>\n",
       "      <th>9</th>\n",
       "      <td>9</td>\n",
       "      <td>1.666979e-02</td>\n",
       "      <td>0.033340</td>\n",
       "      <td>-0.619941</td>\n",
       "      <td>646.7240</td>\n",
       "    </tr>\n",
       "  </tbody>\n",
       "</table>\n",
       "</div>"
      ],
      "text/plain": [
       "   gene          pval      qval    log2fc      mean\n",
       "0     0  5.977796e-03  0.014944 -0.638838  638.3275\n",
       "1     1  1.351737e-07  0.000001 -1.936311  489.2615\n",
       "2     2  8.238222e-06  0.000041 -1.221625  667.7560\n",
       "3     3  7.284361e-01  0.766775  0.127830  570.1865\n",
       "4     4  2.590560e-01  0.370080  0.281333  645.8100\n",
       "5     5  1.287291e-02  0.028606 -0.746506  634.8930\n",
       "6     6  1.136593e-01  0.206653 -0.391017  638.4090\n",
       "7     7  2.670917e-03  0.008903 -0.776833  606.5365\n",
       "8     8  4.752592e-03  0.013579  0.770065  600.0685\n",
       "9     9  1.666979e-02  0.033340 -0.619941  646.7240"
      ]
     },
     "execution_count": 9,
     "metadata": {},
     "output_type": "execute_result"
    }
   ],
   "source": [
    "test.summary_pair(group0='3', group1='6').iloc[:10,:]"
   ]
  }
 ],
 "metadata": {
  "kernelspec": {
   "display_name": "Python 3",
   "language": "python",
   "name": "python3"
  },
  "language_info": {
   "codemirror_mode": {
    "name": "ipython",
    "version": 3
   },
   "file_extension": ".py",
   "mimetype": "text/x-python",
   "name": "python",
   "nbconvert_exporter": "python",
   "pygments_lexer": "ipython3",
   "version": "3.6.5"
  }
 },
 "nbformat": 4,
 "nbformat_minor": 1
}
