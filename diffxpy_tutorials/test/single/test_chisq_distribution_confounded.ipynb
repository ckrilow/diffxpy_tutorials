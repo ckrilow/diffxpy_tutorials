{
 "cells": [
  {
   "cell_type": "code",
   "execution_count": 1,
   "metadata": {},
   "outputs": [],
   "source": [
    "import logging\n",
    "import warnings\n",
    "\n",
    "import numpy as np\n",
    "import scipy.stats\n",
    "import pandas as pd\n",
    "\n",
    "%matplotlib inline\n",
    "import matplotlib.pyplot as plt\n",
    "import seaborn as sns"
   ]
  },
  {
   "cell_type": "markdown",
   "metadata": {},
   "source": [
    "Generate some data:"
   ]
  },
  {
   "cell_type": "code",
   "execution_count": 2,
   "metadata": {},
   "outputs": [
    {
     "data": {
      "text/plain": [
       "array([[0, 0],\n",
       "       [0, 1],\n",
       "       [0, 2],\n",
       "       [0, 3],\n",
       "       [1, 0],\n",
       "       [1, 1],\n",
       "       [1, 2],\n",
       "       [1, 3]])"
      ]
     },
     "execution_count": 2,
     "metadata": {},
     "output_type": "execute_result"
    }
   ],
   "source": [
    "from batchglm.api.models.nb_glm import Simulator\n",
    "\n",
    "sim = Simulator(num_observations=10000, num_features=2000)\n",
    "sim.generate_sample_description(num_batches=0, num_conditions=0)\n",
    "sim.generate()\n",
    "\n",
    "random_sample_description = pd.DataFrame({\n",
    "    \"condition\": np.random.randint(2, size=sim.num_observations),\n",
    "    \"batch\": np.random.randint(4, size=sim.num_observations)\n",
    "})\n",
    "\n",
    "np.unique(random_sample_description, axis=0)"
   ]
  },
  {
   "cell_type": "markdown",
   "metadata": {},
   "source": [
    "Run differential expression test:"
   ]
  },
  {
   "cell_type": "code",
   "execution_count": 3,
   "metadata": {},
   "outputs": [
    {
     "name": "stdout",
     "output_type": "stream",
     "text": [
      "lrt is not ready for usage yet!\n",
      "Estimating model...\n",
      "Using closed-form MLE initialization for mean\n",
      "Should train mu: False\n",
      "Using closed-form MME initialization for dispersion\n",
      "Should train r: True\n",
      "training strategy:\n",
      "[{'convergence_criteria': 't_test',\n",
      "  'learning_rate': 0.01,\n",
      "  'loss_window_size': 10,\n",
      "  'optim_algo': 'ADAM',\n",
      "  'stop_at_loss_change': 0.25,\n",
      "  'use_batching': False}]\n",
      "Beginning with training sequence #1\n",
      "Training sequence #1 complete\n",
      "Estimating model ready\n",
      "Estimating model...\n",
      "Using closed-form MLE initialization for mean\n",
      "Should train mu: True\n",
      "Using closed-form MME initialization for dispersion\n",
      "Should train r: True\n",
      "training strategy:\n",
      "[{'convergence_criteria': 't_test',\n",
      "  'learning_rate': 0.1,\n",
      "  'loss_window_size': 100,\n",
      "  'optim_algo': 'ADAM',\n",
      "  'stop_at_loss_change': 0.05,\n",
      "  'use_batching': True},\n",
      " {'convergence_criteria': 't_test',\n",
      "  'learning_rate': 0.05,\n",
      "  'loss_window_size': 10,\n",
      "  'optim_algo': 'ADAM',\n",
      "  'stop_at_loss_change': 0.05,\n",
      "  'use_batching': False}]\n",
      "Beginning with training sequence #1\n",
      "Training sequence #1 complete\n",
      "Beginning with training sequence #2\n",
      "Training sequence #2 complete\n",
      "Estimating model ready\n"
     ]
    }
   ],
   "source": [
    "logging.getLogger(\"tensorflow\").setLevel(logging.WARNING)\n",
    "logging.getLogger(\"batchglm\").setLevel(logging.INFO)\n",
    "logging.getLogger(\"diffxpy\").setLevel(logging.INFO)\n",
    "\n",
    "# just to ignore some tensorflow warnings; just ignore this line\n",
    "warnings.filterwarnings(\"ignore\", category=DeprecationWarning, module=\"tensorflow\")\n",
    "\n",
    "import diffxpy.api as de\n",
    "\n",
    "test = de.test.lrt(\n",
    "    data=sim.X,\n",
    "    full_formula=\"~ 1 + batch + condition\",\n",
    "    reduced_formula=\"~ 1\",\n",
    "    sample_description=random_sample_description,\n",
    "    dtype=\"float64\"\n",
    ")\n"
   ]
  },
  {
   "cell_type": "code",
   "execution_count": 4,
   "metadata": {},
   "outputs": [
    {
     "name": "stdout",
     "output_type": "stream",
     "text": [
      "failed features (should be empty):\n"
     ]
    },
    {
     "data": {
      "text/plain": [
       "(array([364]),)"
      ]
     },
     "execution_count": 4,
     "metadata": {},
     "output_type": "execute_result"
    }
   ],
   "source": [
    "full_model = test.full_estim\n",
    "reduced_model = test.reduced_estim\n",
    "\n",
    "ll_full = np.sum(full_model.log_probs(), axis=0)\n",
    "ll_reduced = np.sum(reduced_model.log_probs(), axis=0)\n",
    "delta_dev = 2 * (ll_full - ll_reduced)\n",
    "\n",
    "delta_df = (full_model.design_loc.shape[-1] - reduced_model.design_loc.shape[-1]) + \\\n",
    "           (full_model.design_scale.shape[-1] - reduced_model.design_scale.shape[-1])\n",
    "\n",
    "expected_dist = scipy.stats.chi2(delta_df)\n",
    "\n",
    "print(\"failed features (should be empty):\")\n",
    "np.where(ll_full < ll_reduced)\n"
   ]
  },
  {
   "cell_type": "code",
   "execution_count": 5,
   "metadata": {},
   "outputs": [
    {
     "data": {
      "image/png": "[encoded data removed]",
      "text/plain": [
       "<Figure size 432x288 with 1 Axes>"
      ]
     },
     "metadata": {},
     "output_type": "display_data"
    }
   ],
   "source": [
    "fig, ax = plt.subplots()\n",
    "sns.distplot(delta_dev, norm_hist=True, kde=False, bins=100, ax=ax)\n",
    "\n",
    "xmin = np.min(delta_dev)\n",
    "xmax = 10.\n",
    "ymax = 1.\n",
    "ax.set_xlim(xmin, xmax)\n",
    "ax.set_ylim(top=ymax)\n",
    "\n",
    "x = np.arange(0, xmax, xmax / 2000)\n",
    "ax.plot(x, expected_dist.pdf(x), label='chi²', linestyle=\":\")\n",
    "# ax.set_xscale(\"log\")\n",
    "\n",
    "plt.show()\n",
    "plt.close()\n",
    "\n"
   ]
  }
 ],
 "metadata": {
  "kernelspec": {
   "display_name": "Python 3",
   "language": "python",
   "name": "python3"
  },
  "language_info": {
   "codemirror_mode": {
    "name": "ipython",
    "version": 3
   },
   "file_extension": ".py",
   "mimetype": "text/x-python",
   "name": "python",
   "nbconvert_exporter": "python",
   "pygments_lexer": "ipython3",
   "version": "3.6.5"
  },
  "toc": {
   "base_numbering": 1,
   "nav_menu": {},
   "number_sections": false,
   "sideBar": false,
   "skip_h1_title": false,
   "title_cell": "Table of Contents",
   "title_sidebar": "Contents",
   "toc_cell": false,
   "toc_position": {},
   "toc_section_display": false,
   "toc_window_display": false
  }
 },
 "nbformat": 4,
 "nbformat_minor": 1
}
