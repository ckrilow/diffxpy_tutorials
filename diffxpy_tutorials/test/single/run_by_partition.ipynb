{
 "cells": [
  {
   "cell_type": "code",
   "execution_count": 1,
   "metadata": {},
   "outputs": [
    {
     "name": "stderr",
     "output_type": "stream",
     "text": [
      "/Users/david.fischer/miniconda3/lib/python3.6/importlib/_bootstrap.py:219: RuntimeWarning: numpy.dtype size changed, may indicate binary incompatibility. Expected 96, got 88\n",
      "  return f(*args, **kwds)\n"
     ]
    }
   ],
   "source": [
    "%matplotlib inline\n",
    "import matplotlib.pyplot as plt\n",
    "import seaborn as sns\n",
    "import logging\n",
    "\n",
    "import scipy.stats\n",
    "import numpy as np\n",
    "\n",
    "import diffxpy.api as de"
   ]
  },
  {
   "cell_type": "markdown",
   "metadata": {},
   "source": [
    "# Generate some data:"
   ]
  },
  {
   "cell_type": "code",
   "execution_count": 2,
   "metadata": {},
   "outputs": [],
   "source": [
    "from batchglm.api.models.nb_glm import Simulator\n",
    "\n",
    "sim = Simulator(num_observations=2000, num_features=100)\n",
    "sim.generate_sample_description(num_batches=2, num_conditions=2)\n",
    "# sample parameters from positive truncated N(1, 0.1)\n",
    "mu=1; phi=0.1\n",
    "sim.generate_params(rand_fn_loc=lambda size: mu + scipy.stats.truncnorm.rvs(-mu / phi, np.infty, scale=phi, size=size))\n",
    "sim.generate_data()\n",
    "\n",
    "# count data\n",
    "X = sim.X\n",
    "# sample description\n",
    "sample_description = sim.sample_description"
   ]
  },
  {
   "cell_type": "markdown",
   "metadata": {},
   "source": [
    "The sample description should be a pandas DataFrame with `num_observations` rows.\n",
    "Each column should represent a property of the dataset.\n",
    "\n",
    "The module `batchglm.api.data` contains some helper functions which can be useful to create this sample description:\n",
    "\n",
    "- `sample_description_from_anndata()`\n",
    "- `sample_description_from_xarray()`"
   ]
  },
  {
   "cell_type": "code",
   "execution_count": 3,
   "metadata": {},
   "outputs": [
    {
     "data": {
      "text/html": [
       "<div>\n",
       "<style scoped>\n",
       "    .dataframe tbody tr th:only-of-type {\n",
       "        vertical-align: middle;\n",
       "    }\n",
       "\n",
       "    .dataframe tbody tr th {\n",
       "        vertical-align: top;\n",
       "    }\n",
       "\n",
       "    .dataframe thead th {\n",
       "        text-align: right;\n",
       "    }\n",
       "</style>\n",
       "<table border=\"1\" class=\"dataframe\">\n",
       "  <thead>\n",
       "    <tr style=\"text-align: right;\">\n",
       "      <th></th>\n",
       "      <th>batch</th>\n",
       "      <th>condition</th>\n",
       "    </tr>\n",
       "    <tr>\n",
       "      <th>observations</th>\n",
       "      <th></th>\n",
       "      <th></th>\n",
       "    </tr>\n",
       "  </thead>\n",
       "  <tbody>\n",
       "    <tr>\n",
       "      <th>0</th>\n",
       "      <td>0</td>\n",
       "      <td>0</td>\n",
       "    </tr>\n",
       "    <tr>\n",
       "      <th>1</th>\n",
       "      <td>0</td>\n",
       "      <td>1</td>\n",
       "    </tr>\n",
       "    <tr>\n",
       "      <th>1000</th>\n",
       "      <td>1</td>\n",
       "      <td>0</td>\n",
       "    </tr>\n",
       "    <tr>\n",
       "      <th>1001</th>\n",
       "      <td>1</td>\n",
       "      <td>1</td>\n",
       "    </tr>\n",
       "  </tbody>\n",
       "</table>\n",
       "</div>"
      ],
      "text/plain": [
       "             batch condition\n",
       "observations                \n",
       "0                0         0\n",
       "1                0         1\n",
       "1000             1         0\n",
       "1001             1         1"
      ]
     },
     "execution_count": 3,
     "metadata": {},
     "output_type": "execute_result"
    }
   ],
   "source": [
    "sample_description.drop_duplicates()"
   ]
  },
  {
   "cell_type": "markdown",
   "metadata": {},
   "source": [
    "# Run differential expression test:"
   ]
  },
  {
   "cell_type": "markdown",
   "metadata": {},
   "source": [
    "Here, we run a t-test between the condition groups within each batches. Similarly, all other simple differential expression tests can be mapped onto a partition of the data set."
   ]
  },
  {
   "cell_type": "code",
   "execution_count": 4,
   "metadata": {
    "scrolled": true
   },
   "outputs": [],
   "source": [
    "logging.getLogger(\"tensorflow\").setLevel(logging.ERROR)\n",
    "logging.getLogger(\"batchglm\").setLevel(logging.INFO)\n",
    "logging.getLogger(\"diffxpy\").setLevel(logging.INFO)\n",
    "\n",
    "import diffxpy.api as de\n",
    "\n",
    "# Create partitions of data set.\n",
    "part = de.test.partition(\n",
    "    data=X, \n",
    "    partition = \"batch\",\n",
    "    sample_description=sample_description)\n",
    "# Run tests on each partition.\n",
    "test = part.t_test(\n",
    "    grouping=\"condition\"\n",
    ")"
   ]
  },
  {
   "cell_type": "markdown",
   "metadata": {},
   "source": [
    "Similarly, one can also map a likelihood-ratio test across the partitions:"
   ]
  },
  {
   "cell_type": "code",
   "execution_count": 5,
   "metadata": {},
   "outputs": [
    {
     "name": "stdout",
     "output_type": "stream",
     "text": [
      "Estimating model...\n",
      "Using closed-form MLE initialization for mean\n",
      "Using closed-form MME initialization for dispersion\n"
     ]
    },
    {
     "name": "stderr",
     "output_type": "stream",
     "text": [
      "/Users/david.fischer/gitDevelopment/batchglm/batchglm/train/tf/nb_glm/estimator.py:746: FutureWarning: `rcond` parameter will change to the default of machine precision times ``max(M, N)`` where M and N are the input matrix dimensions.\n",
      "To use the future default and silence this warning we advise to pass `rcond=None`, to keep using the old, explicitly pass `rcond=-1`.\n",
      "  a_prime = np.linalg.lstsq(unique_design_loc, a)\n",
      "/Users/david.fischer/gitDevelopment/batchglm/batchglm/train/tf/nb_glm/estimator.py:776: FutureWarning: `rcond` parameter will change to the default of machine precision times ``max(M, N)`` where M and N are the input matrix dimensions.\n",
      "To use the future default and silence this warning we advise to pass `rcond=None`, to keep using the old, explicitly pass `rcond=-1`.\n",
      "  b_prime = np.linalg.lstsq(unique_design_scale, b)\n"
     ]
    },
    {
     "name": "stdout",
     "output_type": "stream",
     "text": [
      "training strategy: [{'learning_rate': 0.01, 'convergence_criteria': 't_test', 'stop_at_loss_change': 0.25, 'loss_window_size': 10, 'use_batching': False, 'optim_algo': 'GD'}]\n",
      "Beginning with training sequence #1\n",
      "Training sequence #1 complete\n",
      "Estimating model ready\n",
      "Estimating model...\n",
      "Using closed-form MLE initialization for mean\n",
      "Using closed-form MME initialization for dispersion\n"
     ]
    },
    {
     "name": "stderr",
     "output_type": "stream",
     "text": [
      "/Users/david.fischer/gitDevelopment/batchglm/batchglm/train/tf/nb_glm/estimator.py:746: FutureWarning: `rcond` parameter will change to the default of machine precision times ``max(M, N)`` where M and N are the input matrix dimensions.\n",
      "To use the future default and silence this warning we advise to pass `rcond=None`, to keep using the old, explicitly pass `rcond=-1`.\n",
      "  a_prime = np.linalg.lstsq(unique_design_loc, a)\n",
      "/Users/david.fischer/gitDevelopment/batchglm/batchglm/train/tf/nb_glm/estimator.py:776: FutureWarning: `rcond` parameter will change to the default of machine precision times ``max(M, N)`` where M and N are the input matrix dimensions.\n",
      "To use the future default and silence this warning we advise to pass `rcond=None`, to keep using the old, explicitly pass `rcond=-1`.\n",
      "  b_prime = np.linalg.lstsq(unique_design_scale, b)\n"
     ]
    },
    {
     "name": "stdout",
     "output_type": "stream",
     "text": [
      "training strategy: [{'learning_rate': 0.01, 'convergence_criteria': 't_test', 'stop_at_loss_change': 0.25, 'loss_window_size': 10, 'use_batching': False, 'optim_algo': 'GD'}]\n",
      "Beginning with training sequence #1\n",
      "Training sequence #1 complete\n",
      "Estimating model ready\n"
     ]
    }
   ],
   "source": [
    "test_wald = part.wald(\n",
    "    factor_loc_totest=\"condition\", formula=\"~1+condition\", noise_model=\"nb\"\n",
    ")"
   ]
  },
  {
   "cell_type": "markdown",
   "metadata": {},
   "source": [
    "# Obtaining the results"
   ]
  },
  {
   "cell_type": "markdown",
   "metadata": {},
   "source": [
    "## Obtain results across all tests"
   ]
  },
  {
   "cell_type": "code",
   "execution_count": 6,
   "metadata": {},
   "outputs": [
    {
     "data": {
      "text/html": [
       "<div>\n",
       "<style scoped>\n",
       "    .dataframe tbody tr th:only-of-type {\n",
       "        vertical-align: middle;\n",
       "    }\n",
       "\n",
       "    .dataframe tbody tr th {\n",
       "        vertical-align: top;\n",
       "    }\n",
       "\n",
       "    .dataframe thead th {\n",
       "        text-align: right;\n",
       "    }\n",
       "</style>\n",
       "<table border=\"1\" class=\"dataframe\">\n",
       "  <thead>\n",
       "    <tr style=\"text-align: right;\">\n",
       "      <th></th>\n",
       "      <th>gene</th>\n",
       "      <th>pval</th>\n",
       "      <th>qval</th>\n",
       "      <th>log2fc</th>\n",
       "      <th>mean</th>\n",
       "    </tr>\n",
       "  </thead>\n",
       "  <tbody>\n",
       "    <tr>\n",
       "      <th>0</th>\n",
       "      <td>0</td>\n",
       "      <td>6.780058e-01</td>\n",
       "      <td>7.255701e-01</td>\n",
       "      <td>-0.003551</td>\n",
       "      <td>310.6645</td>\n",
       "    </tr>\n",
       "    <tr>\n",
       "      <th>1</th>\n",
       "      <td>1</td>\n",
       "      <td>1.957075e-05</td>\n",
       "      <td>5.436320e-05</td>\n",
       "      <td>-0.060096</td>\n",
       "      <td>8356.1215</td>\n",
       "    </tr>\n",
       "    <tr>\n",
       "      <th>2</th>\n",
       "      <td>2</td>\n",
       "      <td>3.423769e-07</td>\n",
       "      <td>1.316834e-06</td>\n",
       "      <td>0.110693</td>\n",
       "      <td>7134.1985</td>\n",
       "    </tr>\n",
       "    <tr>\n",
       "      <th>3</th>\n",
       "      <td>3</td>\n",
       "      <td>3.974598e-13</td>\n",
       "      <td>4.968248e-12</td>\n",
       "      <td>-0.222976</td>\n",
       "      <td>3303.3015</td>\n",
       "    </tr>\n",
       "    <tr>\n",
       "      <th>4</th>\n",
       "      <td>4</td>\n",
       "      <td>1.966670e-07</td>\n",
       "      <td>8.194457e-07</td>\n",
       "      <td>0.173295</td>\n",
       "      <td>1925.3105</td>\n",
       "    </tr>\n",
       "    <tr>\n",
       "      <th>5</th>\n",
       "      <td>5</td>\n",
       "      <td>5.734555e-03</td>\n",
       "      <td>1.146911e-02</td>\n",
       "      <td>0.095413</td>\n",
       "      <td>9170.9355</td>\n",
       "    </tr>\n",
       "    <tr>\n",
       "      <th>6</th>\n",
       "      <td>6</td>\n",
       "      <td>1.541421e-03</td>\n",
       "      <td>3.853552e-03</td>\n",
       "      <td>-0.079690</td>\n",
       "      <td>1449.1825</td>\n",
       "    </tr>\n",
       "    <tr>\n",
       "      <th>7</th>\n",
       "      <td>7</td>\n",
       "      <td>1.829474e-01</td>\n",
       "      <td>2.506129e-01</td>\n",
       "      <td>0.091009</td>\n",
       "      <td>8687.8170</td>\n",
       "    </tr>\n",
       "    <tr>\n",
       "      <th>8</th>\n",
       "      <td>8</td>\n",
       "      <td>1.310968e-04</td>\n",
       "      <td>4.369892e-04</td>\n",
       "      <td>-0.095170</td>\n",
       "      <td>7875.4185</td>\n",
       "    </tr>\n",
       "    <tr>\n",
       "      <th>9</th>\n",
       "      <td>9</td>\n",
       "      <td>5.624384e-06</td>\n",
       "      <td>1.814317e-05</td>\n",
       "      <td>0.123845</td>\n",
       "      <td>1147.4590</td>\n",
       "    </tr>\n",
       "  </tbody>\n",
       "</table>\n",
       "</div>"
      ],
      "text/plain": [
       "   gene          pval          qval    log2fc       mean\n",
       "0     0  6.780058e-01  7.255701e-01 -0.003551   310.6645\n",
       "1     1  1.957075e-05  5.436320e-05 -0.060096  8356.1215\n",
       "2     2  3.423769e-07  1.316834e-06  0.110693  7134.1985\n",
       "3     3  3.974598e-13  4.968248e-12 -0.222976  3303.3015\n",
       "4     4  1.966670e-07  8.194457e-07  0.173295  1925.3105\n",
       "5     5  5.734555e-03  1.146911e-02  0.095413  9170.9355\n",
       "6     6  1.541421e-03  3.853552e-03 -0.079690  1449.1825\n",
       "7     7  1.829474e-01  2.506129e-01  0.091009  8687.8170\n",
       "8     8  1.310968e-04  4.369892e-04 -0.095170  7875.4185\n",
       "9     9  5.624384e-06  1.814317e-05  0.123845  1147.4590"
      ]
     },
     "execution_count": 6,
     "metadata": {},
     "output_type": "execute_result"
    }
   ],
   "source": [
    "test.summary().iloc[:10,:]"
   ]
  },
  {
   "cell_type": "code",
   "execution_count": 7,
   "metadata": {},
   "outputs": [
    {
     "data": {
      "text/html": [
       "<div>\n",
       "<style scoped>\n",
       "    .dataframe tbody tr th:only-of-type {\n",
       "        vertical-align: middle;\n",
       "    }\n",
       "\n",
       "    .dataframe tbody tr th {\n",
       "        vertical-align: top;\n",
       "    }\n",
       "\n",
       "    .dataframe thead th {\n",
       "        text-align: right;\n",
       "    }\n",
       "</style>\n",
       "<table border=\"1\" class=\"dataframe\">\n",
       "  <thead>\n",
       "    <tr style=\"text-align: right;\">\n",
       "      <th></th>\n",
       "      <th>gene</th>\n",
       "      <th>pval</th>\n",
       "      <th>qval</th>\n",
       "      <th>log2fc</th>\n",
       "      <th>mean</th>\n",
       "    </tr>\n",
       "  </thead>\n",
       "  <tbody>\n",
       "    <tr>\n",
       "      <th>0</th>\n",
       "      <td>0</td>\n",
       "      <td>6.770591e-01</td>\n",
       "      <td>7.270938e-01</td>\n",
       "      <td>-0.003551</td>\n",
       "      <td>310.6645</td>\n",
       "    </tr>\n",
       "    <tr>\n",
       "      <th>1</th>\n",
       "      <td>1</td>\n",
       "      <td>2.021802e-05</td>\n",
       "      <td>5.616118e-05</td>\n",
       "      <td>-0.060096</td>\n",
       "      <td>8356.1215</td>\n",
       "    </tr>\n",
       "    <tr>\n",
       "      <th>2</th>\n",
       "      <td>2</td>\n",
       "      <td>2.938577e-07</td>\n",
       "      <td>1.175431e-06</td>\n",
       "      <td>0.110692</td>\n",
       "      <td>7134.1985</td>\n",
       "    </tr>\n",
       "    <tr>\n",
       "      <th>3</th>\n",
       "      <td>3</td>\n",
       "      <td>8.815171e-14</td>\n",
       "      <td>1.259310e-12</td>\n",
       "      <td>-0.222976</td>\n",
       "      <td>3303.3015</td>\n",
       "    </tr>\n",
       "    <tr>\n",
       "      <th>4</th>\n",
       "      <td>4</td>\n",
       "      <td>9.876257e-08</td>\n",
       "      <td>4.236880e-07</td>\n",
       "      <td>0.173295</td>\n",
       "      <td>1925.3105</td>\n",
       "    </tr>\n",
       "    <tr>\n",
       "      <th>5</th>\n",
       "      <td>5</td>\n",
       "      <td>5.488949e-03</td>\n",
       "      <td>1.097790e-02</td>\n",
       "      <td>0.095413</td>\n",
       "      <td>9170.9355</td>\n",
       "    </tr>\n",
       "    <tr>\n",
       "      <th>6</th>\n",
       "      <td>6</td>\n",
       "      <td>1.380078e-03</td>\n",
       "      <td>3.538661e-03</td>\n",
       "      <td>-0.079691</td>\n",
       "      <td>1449.1825</td>\n",
       "    </tr>\n",
       "    <tr>\n",
       "      <th>7</th>\n",
       "      <td>7</td>\n",
       "      <td>1.812106e-01</td>\n",
       "      <td>2.482337e-01</td>\n",
       "      <td>0.091009</td>\n",
       "      <td>8687.8170</td>\n",
       "    </tr>\n",
       "    <tr>\n",
       "      <th>8</th>\n",
       "      <td>8</td>\n",
       "      <td>1.092866e-04</td>\n",
       "      <td>3.642885e-04</td>\n",
       "      <td>-0.095170</td>\n",
       "      <td>7875.4185</td>\n",
       "    </tr>\n",
       "    <tr>\n",
       "      <th>9</th>\n",
       "      <td>9</td>\n",
       "      <td>4.364346e-06</td>\n",
       "      <td>1.407854e-05</td>\n",
       "      <td>0.123845</td>\n",
       "      <td>1147.4590</td>\n",
       "    </tr>\n",
       "  </tbody>\n",
       "</table>\n",
       "</div>"
      ],
      "text/plain": [
       "   gene          pval          qval    log2fc       mean\n",
       "0     0  6.770591e-01  7.270938e-01 -0.003551   310.6645\n",
       "1     1  2.021802e-05  5.616118e-05 -0.060096  8356.1215\n",
       "2     2  2.938577e-07  1.175431e-06  0.110692  7134.1985\n",
       "3     3  8.815171e-14  1.259310e-12 -0.222976  3303.3015\n",
       "4     4  9.876257e-08  4.236880e-07  0.173295  1925.3105\n",
       "5     5  5.488949e-03  1.097790e-02  0.095413  9170.9355\n",
       "6     6  1.380078e-03  3.538661e-03 -0.079691  1449.1825\n",
       "7     7  1.812106e-01  2.482337e-01  0.091009  8687.8170\n",
       "8     8  1.092866e-04  3.642885e-04 -0.095170  7875.4185\n",
       "9     9  4.364346e-06  1.407854e-05  0.123845  1147.4590"
      ]
     },
     "execution_count": 7,
     "metadata": {},
     "output_type": "execute_result"
    }
   ],
   "source": [
    "test_wald.summary().iloc[:10,:]"
   ]
  },
  {
   "cell_type": "markdown",
   "metadata": {},
   "source": [
    "## Obtain results for one specific test"
   ]
  },
  {
   "cell_type": "markdown",
   "metadata": {},
   "source": [
    "The individual partitions are:"
   ]
  },
  {
   "cell_type": "code",
   "execution_count": 8,
   "metadata": {},
   "outputs": [
    {
     "data": {
      "text/plain": [
       "['0', '1']"
      ]
     },
     "execution_count": 8,
     "metadata": {},
     "output_type": "execute_result"
    }
   ],
   "source": [
    "test.partitions"
   ]
  },
  {
   "cell_type": "markdown",
   "metadata": {},
   "source": [
    "In the following, we will inspect the test within partition '0'."
   ]
  },
  {
   "cell_type": "markdown",
   "metadata": {},
   "source": [
    "The p-/q-values can be obtained by calling test.pval / test.qval:"
   ]
  },
  {
   "cell_type": "code",
   "execution_count": 9,
   "metadata": {},
   "outputs": [
    {
     "data": {
      "text/plain": [
       "array([7.25570079e-01, 1.09573885e-01, 1.07491718e-02, 4.96824804e-12,\n",
       "       9.48693509e-03, 1.14691106e-02, 3.85355234e-03, 2.50612901e-01,\n",
       "       4.36989222e-04, 1.44496415e-01])"
      ]
     },
     "execution_count": 9,
     "metadata": {},
     "output_type": "execute_result"
    }
   ],
   "source": [
    "test.tests[0].qval[:10]"
   ]
  },
  {
   "cell_type": "markdown",
   "metadata": {},
   "source": [
    "test.summary() returns a pandas DataFrame with a quick overview of the test results:"
   ]
  },
  {
   "cell_type": "code",
   "execution_count": 10,
   "metadata": {},
   "outputs": [
    {
     "data": {
      "text/html": [
       "<div>\n",
       "<style scoped>\n",
       "    .dataframe tbody tr th:only-of-type {\n",
       "        vertical-align: middle;\n",
       "    }\n",
       "\n",
       "    .dataframe tbody tr th {\n",
       "        vertical-align: top;\n",
       "    }\n",
       "\n",
       "    .dataframe thead th {\n",
       "        text-align: right;\n",
       "    }\n",
       "</style>\n",
       "<table border=\"1\" class=\"dataframe\">\n",
       "  <thead>\n",
       "    <tr style=\"text-align: right;\">\n",
       "      <th></th>\n",
       "      <th>gene</th>\n",
       "      <th>pval</th>\n",
       "      <th>qval</th>\n",
       "      <th>log2fc</th>\n",
       "      <th>mean</th>\n",
       "      <th>zero_mean</th>\n",
       "      <th>zero_variance</th>\n",
       "    </tr>\n",
       "  </thead>\n",
       "  <tbody>\n",
       "    <tr>\n",
       "      <th>0</th>\n",
       "      <td>0</td>\n",
       "      <td>6.780058e-01</td>\n",
       "      <td>7.255701e-01</td>\n",
       "      <td>-0.014802</td>\n",
       "      <td>320.673</td>\n",
       "      <td>False</td>\n",
       "      <td>False</td>\n",
       "    </tr>\n",
       "    <tr>\n",
       "      <th>1</th>\n",
       "      <td>1</td>\n",
       "      <td>7.451024e-02</td>\n",
       "      <td>1.095739e-01</td>\n",
       "      <td>-0.060096</td>\n",
       "      <td>7939.305</td>\n",
       "      <td>False</td>\n",
       "      <td>False</td>\n",
       "    </tr>\n",
       "    <tr>\n",
       "      <th>2</th>\n",
       "      <td>2</td>\n",
       "      <td>5.267094e-03</td>\n",
       "      <td>1.074917e-02</td>\n",
       "      <td>0.086749</td>\n",
       "      <td>7396.120</td>\n",
       "      <td>False</td>\n",
       "      <td>False</td>\n",
       "    </tr>\n",
       "    <tr>\n",
       "      <th>3</th>\n",
       "      <td>3</td>\n",
       "      <td>3.974598e-13</td>\n",
       "      <td>4.968248e-12</td>\n",
       "      <td>-0.255442</td>\n",
       "      <td>3277.618</td>\n",
       "      <td>False</td>\n",
       "      <td>False</td>\n",
       "    </tr>\n",
       "    <tr>\n",
       "      <th>4</th>\n",
       "      <td>4</td>\n",
       "      <td>4.363990e-03</td>\n",
       "      <td>9.486935e-03</td>\n",
       "      <td>0.120831</td>\n",
       "      <td>1989.591</td>\n",
       "      <td>False</td>\n",
       "      <td>False</td>\n",
       "    </tr>\n",
       "    <tr>\n",
       "      <th>5</th>\n",
       "      <td>5</td>\n",
       "      <td>5.734555e-03</td>\n",
       "      <td>1.146911e-02</td>\n",
       "      <td>0.095413</td>\n",
       "      <td>9122.860</td>\n",
       "      <td>False</td>\n",
       "      <td>False</td>\n",
       "    </tr>\n",
       "    <tr>\n",
       "      <th>6</th>\n",
       "      <td>6</td>\n",
       "      <td>1.541421e-03</td>\n",
       "      <td>3.853552e-03</td>\n",
       "      <td>-0.098705</td>\n",
       "      <td>1586.739</td>\n",
       "      <td>False</td>\n",
       "      <td>False</td>\n",
       "    </tr>\n",
       "    <tr>\n",
       "      <th>7</th>\n",
       "      <td>7</td>\n",
       "      <td>1.829474e-01</td>\n",
       "      <td>2.506129e-01</td>\n",
       "      <td>0.091009</td>\n",
       "      <td>8566.043</td>\n",
       "      <td>False</td>\n",
       "      <td>False</td>\n",
       "    </tr>\n",
       "    <tr>\n",
       "      <th>8</th>\n",
       "      <td>8</td>\n",
       "      <td>1.310968e-04</td>\n",
       "      <td>4.369892e-04</td>\n",
       "      <td>-0.114376</td>\n",
       "      <td>7838.385</td>\n",
       "      <td>False</td>\n",
       "      <td>False</td>\n",
       "    </tr>\n",
       "    <tr>\n",
       "      <th>9</th>\n",
       "      <td>9</td>\n",
       "      <td>1.011475e-01</td>\n",
       "      <td>1.444964e-01</td>\n",
       "      <td>0.058356</td>\n",
       "      <td>1176.397</td>\n",
       "      <td>False</td>\n",
       "      <td>False</td>\n",
       "    </tr>\n",
       "  </tbody>\n",
       "</table>\n",
       "</div>"
      ],
      "text/plain": [
       "   gene          pval          qval    log2fc      mean  zero_mean  \\\n",
       "0     0  6.780058e-01  7.255701e-01 -0.014802   320.673      False   \n",
       "1     1  7.451024e-02  1.095739e-01 -0.060096  7939.305      False   \n",
       "2     2  5.267094e-03  1.074917e-02  0.086749  7396.120      False   \n",
       "3     3  3.974598e-13  4.968248e-12 -0.255442  3277.618      False   \n",
       "4     4  4.363990e-03  9.486935e-03  0.120831  1989.591      False   \n",
       "5     5  5.734555e-03  1.146911e-02  0.095413  9122.860      False   \n",
       "6     6  1.541421e-03  3.853552e-03 -0.098705  1586.739      False   \n",
       "7     7  1.829474e-01  2.506129e-01  0.091009  8566.043      False   \n",
       "8     8  1.310968e-04  4.369892e-04 -0.114376  7838.385      False   \n",
       "9     9  1.011475e-01  1.444964e-01  0.058356  1176.397      False   \n",
       "\n",
       "   zero_variance  \n",
       "0          False  \n",
       "1          False  \n",
       "2          False  \n",
       "3          False  \n",
       "4          False  \n",
       "5          False  \n",
       "6          False  \n",
       "7          False  \n",
       "8          False  \n",
       "9          False  "
      ]
     },
     "execution_count": 10,
     "metadata": {},
     "output_type": "execute_result"
    }
   ],
   "source": [
    "test.tests[0].summary().iloc[:10,]"
   ]
  },
  {
   "cell_type": "markdown",
   "metadata": {},
   "source": [
    "- `gene`: gene name / identifier\n",
    "- `pval`: p-value of the gene\n",
    "- `qval`: multiple testing - corrected p-value of the gene\n",
    "- `log2fc`: log_2 fold change between `no coefficient` and `coefficient`"
   ]
  },
  {
   "cell_type": "markdown",
   "metadata": {},
   "source": [
    "`test.plot_volcano()` creates a volcano plot of p-values vs. fold-change:"
   ]
  },
  {
   "cell_type": "code",
   "execution_count": 11,
   "metadata": {},
   "outputs": [
    {
     "data": {
      "text/plain": [
       "(<Figure size 432x288 with 1 Axes>,\n",
       " <matplotlib.axes._subplots.AxesSubplot at 0x1c2394e0f0>)"
      ]
     },
     "execution_count": 11,
     "metadata": {},
     "output_type": "execute_result"
    },
    {
     "data": {
      "image/png": "[encoded data removed]",
      "text/plain": [
       "<Figure size 432x288 with 1 Axes>"
      ]
     },
     "metadata": {},
     "output_type": "display_data"
    }
   ],
   "source": [
    "test.tests[0].plot_volcano()"
   ]
  }
 ],
 "metadata": {
  "kernelspec": {
   "display_name": "Python 3",
   "language": "python",
   "name": "python3"
  },
  "language_info": {
   "codemirror_mode": {
    "name": "ipython",
    "version": 3
   },
   "file_extension": ".py",
   "mimetype": "text/x-python",
   "name": "python",
   "nbconvert_exporter": "python",
   "pygments_lexer": "ipython3",
   "version": "3.6.5"
  },
  "toc": {
   "base_numbering": 1,
   "nav_menu": {},
   "number_sections": false,
   "sideBar": false,
   "skip_h1_title": false,
   "title_cell": "Table of Contents",
   "title_sidebar": "Contents",
   "toc_cell": false,
   "toc_position": {},
   "toc_section_display": false,
   "toc_window_display": false
  }
 },
 "nbformat": 4,
 "nbformat_minor": 1
}
