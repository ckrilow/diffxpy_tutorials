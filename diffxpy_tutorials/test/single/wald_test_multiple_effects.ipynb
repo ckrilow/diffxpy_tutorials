{
 "cells": [
  {
   "cell_type": "code",
   "execution_count": 1,
   "metadata": {},
   "outputs": [],
   "source": [
    "%matplotlib inline\n",
    "import matplotlib.pyplot as plt\n",
    "import seaborn as sns\n",
    "import logging\n",
    "\n",
    "import scipy.stats\n",
    "import numpy as np"
   ]
  },
  {
   "cell_type": "code",
   "execution_count": 2,
   "metadata": {},
   "outputs": [],
   "source": [
    "from batchglm.api.models.nb_glm import Simulator\n",
    "import diffxpy.api as de"
   ]
  },
  {
   "cell_type": "code",
   "execution_count": 3,
   "metadata": {},
   "outputs": [],
   "source": [
    "logging.getLogger(\"tensorflow\").setLevel(logging.ERROR)\n",
    "logging.getLogger(\"batchglm\").setLevel(logging.INFO)\n",
    "logging.getLogger(\"diffxpy\").setLevel(logging.INFO)"
   ]
  },
  {
   "cell_type": "markdown",
   "metadata": {},
   "source": [
    "# Generate some data:"
   ]
  },
  {
   "cell_type": "code",
   "execution_count": 4,
   "metadata": {},
   "outputs": [],
   "source": [
    "sim = Simulator(num_observations=2000, num_features=100)\n",
    "sim.generate_sample_description(num_batches=0, num_conditions=4)\n",
    "# sample parameters from positive truncated N(1, 0.1)\n",
    "mu=1; phi=0.1\n",
    "sim.generate_params(rand_fn_loc=lambda size: mu + scipy.stats.truncnorm.rvs(-mu / phi, np.infty, scale=phi, size=size))\n",
    "sim.generate_data()\n",
    "\n",
    "X = sim.X\n",
    "sample_description = sim.sample_description"
   ]
  },
  {
   "cell_type": "code",
   "execution_count": 5,
   "metadata": {
    "scrolled": true
   },
   "outputs": [
    {
     "data": {
      "text/html": [
       "<div>\n",
       "<style scoped>\n",
       "    .dataframe tbody tr th:only-of-type {\n",
       "        vertical-align: middle;\n",
       "    }\n",
       "\n",
       "    .dataframe tbody tr th {\n",
       "        vertical-align: top;\n",
       "    }\n",
       "\n",
       "    .dataframe thead th {\n",
       "        text-align: right;\n",
       "    }\n",
       "</style>\n",
       "<table border=\"1\" class=\"dataframe\">\n",
       "  <thead>\n",
       "    <tr style=\"text-align: right;\">\n",
       "      <th></th>\n",
       "      <th>condition</th>\n",
       "    </tr>\n",
       "    <tr>\n",
       "      <th>observations</th>\n",
       "      <th></th>\n",
       "    </tr>\n",
       "  </thead>\n",
       "  <tbody>\n",
       "    <tr>\n",
       "      <th>0</th>\n",
       "      <td>0</td>\n",
       "    </tr>\n",
       "    <tr>\n",
       "      <th>1</th>\n",
       "      <td>1</td>\n",
       "    </tr>\n",
       "    <tr>\n",
       "      <th>2</th>\n",
       "      <td>2</td>\n",
       "    </tr>\n",
       "    <tr>\n",
       "      <th>3</th>\n",
       "      <td>3</td>\n",
       "    </tr>\n",
       "    <tr>\n",
       "      <th>4</th>\n",
       "      <td>0</td>\n",
       "    </tr>\n",
       "    <tr>\n",
       "      <th>5</th>\n",
       "      <td>1</td>\n",
       "    </tr>\n",
       "    <tr>\n",
       "      <th>6</th>\n",
       "      <td>2</td>\n",
       "    </tr>\n",
       "    <tr>\n",
       "      <th>7</th>\n",
       "      <td>3</td>\n",
       "    </tr>\n",
       "    <tr>\n",
       "      <th>8</th>\n",
       "      <td>0</td>\n",
       "    </tr>\n",
       "    <tr>\n",
       "      <th>9</th>\n",
       "      <td>1</td>\n",
       "    </tr>\n",
       "  </tbody>\n",
       "</table>\n",
       "</div>"
      ],
      "text/plain": [
       "             condition\n",
       "observations          \n",
       "0                    0\n",
       "1                    1\n",
       "2                    2\n",
       "3                    3\n",
       "4                    0\n",
       "5                    1\n",
       "6                    2\n",
       "7                    3\n",
       "8                    0\n",
       "9                    1"
      ]
     },
     "execution_count": 5,
     "metadata": {},
     "output_type": "execute_result"
    }
   ],
   "source": [
    "sample_description.iloc[:10,:]"
   ]
  },
  {
   "cell_type": "markdown",
   "metadata": {},
   "source": [
    "# Test entire factor"
   ]
  },
  {
   "cell_type": "code",
   "execution_count": 6,
   "metadata": {
    "scrolled": false
   },
   "outputs": [
    {
     "name": "stdout",
     "output_type": "stream",
     "text": [
      "Fitting model...\n",
      "Using closed-form MLE initialization for mean\n",
      "Should train mu: False\n",
      "Using closed-form MME initialization for dispersion\n",
      "Should train r: True\n"
     ]
    },
    {
     "name": "stderr",
     "output_type": "stream",
     "text": [
      "/Users/david.fischer/miniconda3/lib/python3.6/site-packages/tensorflow/python/util/tf_inspect.py:75: DeprecationWarning: inspect.getargspec() is deprecated, use inspect.signature() or inspect.getfullargspec()\n",
      "  return _inspect.getargspec(target)\n",
      "/Users/david.fischer/miniconda3/lib/python3.6/site-packages/tensorflow/python/util/tf_inspect.py:75: DeprecationWarning: inspect.getargspec() is deprecated, use inspect.signature() or inspect.getfullargspec()\n",
      "  return _inspect.getargspec(target)\n",
      "/Users/david.fischer/miniconda3/lib/python3.6/site-packages/tensorflow/python/util/tf_inspect.py:75: DeprecationWarning: inspect.getargspec() is deprecated, use inspect.signature() or inspect.getfullargspec()\n",
      "  return _inspect.getargspec(target)\n"
     ]
    },
    {
     "name": "stdout",
     "output_type": "stream",
     "text": [
      "training strategy:\n",
      "[{'convergence_criteria': 't_test',\n",
      "  'learning_rate': 0.1,\n",
      "  'loss_window_size': 100,\n",
      "  'optim_algo': 'ADAM',\n",
      "  'stop_at_loss_change': 0.05,\n",
      "  'use_batching': True}]\n",
      "Beginning with training sequence #1\n",
      "Training sequence #1 complete\n"
     ]
    }
   ],
   "source": [
    "test_fac = de.test.wald(\n",
    "    data=X,\n",
    "    formula=\"~ 1 + condition\",\n",
    "    factor_loc_totest=\"condition\",\n",
    "    sample_description=sample_description,\n",
    "    training_strategy=\"QUICK\",\n",
    "    dtype=\"float64\"\n",
    ")"
   ]
  },
  {
   "cell_type": "code",
   "execution_count": 7,
   "metadata": {
    "scrolled": false
   },
   "outputs": [
    {
     "data": {
      "text/html": [
       "<div>\n",
       "<style scoped>\n",
       "    .dataframe tbody tr th:only-of-type {\n",
       "        vertical-align: middle;\n",
       "    }\n",
       "\n",
       "    .dataframe tbody tr th {\n",
       "        vertical-align: top;\n",
       "    }\n",
       "\n",
       "    .dataframe thead th {\n",
       "        text-align: right;\n",
       "    }\n",
       "</style>\n",
       "<table border=\"1\" class=\"dataframe\">\n",
       "  <thead>\n",
       "    <tr style=\"text-align: right;\">\n",
       "      <th></th>\n",
       "      <th>gene</th>\n",
       "      <th>pval</th>\n",
       "      <th>qval</th>\n",
       "      <th>log2fc</th>\n",
       "      <th>mean</th>\n",
       "      <th>grad</th>\n",
       "      <th>ll</th>\n",
       "    </tr>\n",
       "  </thead>\n",
       "  <tbody>\n",
       "    <tr>\n",
       "      <th>0</th>\n",
       "      <td>0</td>\n",
       "      <td>1.130649e-04</td>\n",
       "      <td>1.413312e-04</td>\n",
       "      <td>-0.089716</td>\n",
       "      <td>1450.2695</td>\n",
       "      <td>0.088973</td>\n",
       "      <td>-16272.817377</td>\n",
       "    </tr>\n",
       "    <tr>\n",
       "      <th>1</th>\n",
       "      <td>1</td>\n",
       "      <td>1.438065e-03</td>\n",
       "      <td>1.652948e-03</td>\n",
       "      <td>0.047177</td>\n",
       "      <td>5241.0785</td>\n",
       "      <td>0.254513</td>\n",
       "      <td>-18173.666944</td>\n",
       "    </tr>\n",
       "    <tr>\n",
       "      <th>2</th>\n",
       "      <td>2</td>\n",
       "      <td>7.904788e-14</td>\n",
       "      <td>1.613222e-13</td>\n",
       "      <td>0.131362</td>\n",
       "      <td>8880.5740</td>\n",
       "      <td>0.344120</td>\n",
       "      <td>-18683.263588</td>\n",
       "    </tr>\n",
       "    <tr>\n",
       "      <th>3</th>\n",
       "      <td>3</td>\n",
       "      <td>0.000000e+00</td>\n",
       "      <td>0.000000e+00</td>\n",
       "      <td>0.203520</td>\n",
       "      <td>3364.4980</td>\n",
       "      <td>0.370090</td>\n",
       "      <td>-17279.729955</td>\n",
       "    </tr>\n",
       "    <tr>\n",
       "      <th>4</th>\n",
       "      <td>4</td>\n",
       "      <td>2.658027e-03</td>\n",
       "      <td>2.986547e-03</td>\n",
       "      <td>0.080100</td>\n",
       "      <td>3611.8310</td>\n",
       "      <td>0.225549</td>\n",
       "      <td>-17732.856296</td>\n",
       "    </tr>\n",
       "    <tr>\n",
       "      <th>5</th>\n",
       "      <td>5</td>\n",
       "      <td>0.000000e+00</td>\n",
       "      <td>0.000000e+00</td>\n",
       "      <td>-0.150252</td>\n",
       "      <td>8373.6875</td>\n",
       "      <td>0.147828</td>\n",
       "      <td>-19362.122372</td>\n",
       "    </tr>\n",
       "    <tr>\n",
       "      <th>6</th>\n",
       "      <td>6</td>\n",
       "      <td>8.563790e-06</td>\n",
       "      <td>1.097922e-05</td>\n",
       "      <td>0.070900</td>\n",
       "      <td>2921.2115</td>\n",
       "      <td>0.226419</td>\n",
       "      <td>-16601.605564</td>\n",
       "    </tr>\n",
       "    <tr>\n",
       "      <th>7</th>\n",
       "      <td>7</td>\n",
       "      <td>0.000000e+00</td>\n",
       "      <td>0.000000e+00</td>\n",
       "      <td>-0.307544</td>\n",
       "      <td>2428.1185</td>\n",
       "      <td>0.213961</td>\n",
       "      <td>-16452.120689</td>\n",
       "    </tr>\n",
       "    <tr>\n",
       "      <th>8</th>\n",
       "      <td>8</td>\n",
       "      <td>7.184174e-08</td>\n",
       "      <td>1.026311e-07</td>\n",
       "      <td>0.093078</td>\n",
       "      <td>4720.9795</td>\n",
       "      <td>0.200336</td>\n",
       "      <td>-18048.786422</td>\n",
       "    </tr>\n",
       "    <tr>\n",
       "      <th>9</th>\n",
       "      <td>9</td>\n",
       "      <td>2.702694e-11</td>\n",
       "      <td>4.826239e-11</td>\n",
       "      <td>0.120976</td>\n",
       "      <td>5991.9805</td>\n",
       "      <td>0.194962</td>\n",
       "      <td>-18707.956805</td>\n",
       "    </tr>\n",
       "  </tbody>\n",
       "</table>\n",
       "</div>"
      ],
      "text/plain": [
       "   gene          pval          qval    log2fc       mean      grad  \\\n",
       "0     0  1.130649e-04  1.413312e-04 -0.089716  1450.2695  0.088973   \n",
       "1     1  1.438065e-03  1.652948e-03  0.047177  5241.0785  0.254513   \n",
       "2     2  7.904788e-14  1.613222e-13  0.131362  8880.5740  0.344120   \n",
       "3     3  0.000000e+00  0.000000e+00  0.203520  3364.4980  0.370090   \n",
       "4     4  2.658027e-03  2.986547e-03  0.080100  3611.8310  0.225549   \n",
       "5     5  0.000000e+00  0.000000e+00 -0.150252  8373.6875  0.147828   \n",
       "6     6  8.563790e-06  1.097922e-05  0.070900  2921.2115  0.226419   \n",
       "7     7  0.000000e+00  0.000000e+00 -0.307544  2428.1185  0.213961   \n",
       "8     8  7.184174e-08  1.026311e-07  0.093078  4720.9795  0.200336   \n",
       "9     9  2.702694e-11  4.826239e-11  0.120976  5991.9805  0.194962   \n",
       "\n",
       "             ll  \n",
       "0 -16272.817377  \n",
       "1 -18173.666944  \n",
       "2 -18683.263588  \n",
       "3 -17279.729955  \n",
       "4 -17732.856296  \n",
       "5 -19362.122372  \n",
       "6 -16601.605564  \n",
       "7 -16452.120689  \n",
       "8 -18048.786422  \n",
       "9 -18707.956805  "
      ]
     },
     "execution_count": 7,
     "metadata": {},
     "output_type": "execute_result"
    }
   ],
   "source": [
    "test_fac.summary().iloc[:10,:]"
   ]
  },
  {
   "cell_type": "code",
   "execution_count": 8,
   "metadata": {},
   "outputs": [
    {
     "data": {
      "text/plain": [
       "(100, 8)"
      ]
     },
     "execution_count": 8,
     "metadata": {},
     "output_type": "execute_result"
    }
   ],
   "source": [
    "test_fac.theta_sd.shape"
   ]
  },
  {
   "cell_type": "markdown",
   "metadata": {},
   "source": [
    "The volcano plot looks a bit weird because only the maximal coefficient is shown, the pvalue comes from a test which is base on the full set of coefficients though."
   ]
  },
  {
   "cell_type": "code",
   "execution_count": 9,
   "metadata": {
    "scrolled": true
   },
   "outputs": [
    {
     "data": {
      "text/plain": [
       "(<Figure size 432x288 with 1 Axes>,\n",
       " <matplotlib.axes._subplots.AxesSubplot at 0x1c311f1c50>)"
      ]
     },
     "execution_count": 9,
     "metadata": {},
     "output_type": "execute_result"
    },
    {
     "data": {
      "image/png": "[encoded data removed]",
      "text/plain": [
       "<Figure size 432x288 with 1 Axes>"
      ]
     },
     "metadata": {
      "needs_background": "light"
     },
     "output_type": "display_data"
    }
   ],
   "source": [
    "test_fac.plot_volcano()"
   ]
  },
  {
   "cell_type": "markdown",
   "metadata": {},
   "source": [
    "# Test specific coefficients"
   ]
  },
  {
   "cell_type": "markdown",
   "metadata": {},
   "source": [
    "Check coefficient names in model by pre-genereating design matrix from sample description (the corresponding function is provided through diffxpy and provides the same design matrix as is later used within the test):"
   ]
  },
  {
   "cell_type": "code",
   "execution_count": 10,
   "metadata": {
    "scrolled": true
   },
   "outputs": [
    {
     "data": {
      "text/plain": [
       "['Intercept', 'condition[T.1]', 'condition[T.2]', 'condition[T.3]']"
      ]
     },
     "execution_count": 10,
     "metadata": {},
     "output_type": "execute_result"
    }
   ],
   "source": [
    "de.test.coef_names(data = X, sample_description=sample_description, formula=\"~ 1 + condition\")"
   ]
  },
  {
   "cell_type": "markdown",
   "metadata": {},
   "source": [
    "Run test on all coefficients related to condition (i.e. all three condition effects, the fourth one is absorbed into the intercept):"
   ]
  },
  {
   "cell_type": "code",
   "execution_count": 11,
   "metadata": {
    "scrolled": true
   },
   "outputs": [
    {
     "name": "stdout",
     "output_type": "stream",
     "text": [
      "Fitting model...\n",
      "Using closed-form MLE initialization for mean\n",
      "Should train mu: False\n",
      "Using closed-form MME initialization for dispersion\n",
      "Should train r: True\n"
     ]
    },
    {
     "name": "stderr",
     "output_type": "stream",
     "text": [
      "/Users/david.fischer/miniconda3/lib/python3.6/site-packages/tensorflow/python/util/tf_inspect.py:75: DeprecationWarning: inspect.getargspec() is deprecated, use inspect.signature() or inspect.getfullargspec()\n",
      "  return _inspect.getargspec(target)\n",
      "/Users/david.fischer/miniconda3/lib/python3.6/site-packages/tensorflow/python/util/tf_inspect.py:75: DeprecationWarning: inspect.getargspec() is deprecated, use inspect.signature() or inspect.getfullargspec()\n",
      "  return _inspect.getargspec(target)\n",
      "/Users/david.fischer/miniconda3/lib/python3.6/site-packages/tensorflow/python/util/tf_inspect.py:75: DeprecationWarning: inspect.getargspec() is deprecated, use inspect.signature() or inspect.getfullargspec()\n",
      "  return _inspect.getargspec(target)\n"
     ]
    },
    {
     "name": "stdout",
     "output_type": "stream",
     "text": [
      "training strategy:\n",
      "[{'convergence_criteria': 't_test',\n",
      "  'learning_rate': 0.1,\n",
      "  'loss_window_size': 100,\n",
      "  'optim_algo': 'ADAM',\n",
      "  'stop_at_loss_change': 0.05,\n",
      "  'use_batching': True}]\n",
      "Beginning with training sequence #1\n",
      "Training sequence #1 complete\n"
     ]
    }
   ],
   "source": [
    "test_coef = de.test.wald(\n",
    "    data=X,\n",
    "    formula=\"~ 1 + condition\",\n",
    "    coef_to_test=['condition[T.1]', 'condition[T.2]', 'condition[T.3]'],\n",
    "    sample_description=sample_description,\n",
    "    training_strategy=\"QUICK\",\n",
    "    dtype=\"float64\"\n",
    ")"
   ]
  },
  {
   "cell_type": "code",
   "execution_count": 12,
   "metadata": {
    "scrolled": true
   },
   "outputs": [
    {
     "data": {
      "text/html": [
       "<div>\n",
       "<style scoped>\n",
       "    .dataframe tbody tr th:only-of-type {\n",
       "        vertical-align: middle;\n",
       "    }\n",
       "\n",
       "    .dataframe tbody tr th {\n",
       "        vertical-align: top;\n",
       "    }\n",
       "\n",
       "    .dataframe thead th {\n",
       "        text-align: right;\n",
       "    }\n",
       "</style>\n",
       "<table border=\"1\" class=\"dataframe\">\n",
       "  <thead>\n",
       "    <tr style=\"text-align: right;\">\n",
       "      <th></th>\n",
       "      <th>gene</th>\n",
       "      <th>pval</th>\n",
       "      <th>qval</th>\n",
       "      <th>log2fc</th>\n",
       "      <th>mean</th>\n",
       "      <th>grad</th>\n",
       "      <th>ll</th>\n",
       "    </tr>\n",
       "  </thead>\n",
       "  <tbody>\n",
       "    <tr>\n",
       "      <th>0</th>\n",
       "      <td>0</td>\n",
       "      <td>1.005083e-04</td>\n",
       "      <td>1.256354e-04</td>\n",
       "      <td>-0.089716</td>\n",
       "      <td>1450.2695</td>\n",
       "      <td>0.205537</td>\n",
       "      <td>-16273.168788</td>\n",
       "    </tr>\n",
       "    <tr>\n",
       "      <th>1</th>\n",
       "      <td>1</td>\n",
       "      <td>7.979014e-04</td>\n",
       "      <td>9.387076e-04</td>\n",
       "      <td>0.047177</td>\n",
       "      <td>5241.0785</td>\n",
       "      <td>0.124232</td>\n",
       "      <td>-18173.203094</td>\n",
       "    </tr>\n",
       "    <tr>\n",
       "      <th>2</th>\n",
       "      <td>2</td>\n",
       "      <td>4.019007e-14</td>\n",
       "      <td>8.372932e-14</td>\n",
       "      <td>0.131362</td>\n",
       "      <td>8880.5740</td>\n",
       "      <td>0.469860</td>\n",
       "      <td>-18684.028009</td>\n",
       "    </tr>\n",
       "    <tr>\n",
       "      <th>3</th>\n",
       "      <td>3</td>\n",
       "      <td>0.000000e+00</td>\n",
       "      <td>0.000000e+00</td>\n",
       "      <td>0.203520</td>\n",
       "      <td>3364.4980</td>\n",
       "      <td>0.240819</td>\n",
       "      <td>-17278.673740</td>\n",
       "    </tr>\n",
       "    <tr>\n",
       "      <th>4</th>\n",
       "      <td>4</td>\n",
       "      <td>3.082826e-03</td>\n",
       "      <td>3.463850e-03</td>\n",
       "      <td>0.080100</td>\n",
       "      <td>3611.8310</td>\n",
       "      <td>0.230863</td>\n",
       "      <td>-17733.140070</td>\n",
       "    </tr>\n",
       "    <tr>\n",
       "      <th>5</th>\n",
       "      <td>5</td>\n",
       "      <td>0.000000e+00</td>\n",
       "      <td>0.000000e+00</td>\n",
       "      <td>-0.150252</td>\n",
       "      <td>8373.6875</td>\n",
       "      <td>0.235287</td>\n",
       "      <td>-19362.988023</td>\n",
       "    </tr>\n",
       "    <tr>\n",
       "      <th>6</th>\n",
       "      <td>6</td>\n",
       "      <td>3.197547e-06</td>\n",
       "      <td>4.207298e-06</td>\n",
       "      <td>0.070900</td>\n",
       "      <td>2921.2115</td>\n",
       "      <td>0.169612</td>\n",
       "      <td>-16601.772086</td>\n",
       "    </tr>\n",
       "    <tr>\n",
       "      <th>7</th>\n",
       "      <td>7</td>\n",
       "      <td>0.000000e+00</td>\n",
       "      <td>0.000000e+00</td>\n",
       "      <td>-0.307544</td>\n",
       "      <td>2428.1185</td>\n",
       "      <td>0.289185</td>\n",
       "      <td>-16450.619625</td>\n",
       "    </tr>\n",
       "    <tr>\n",
       "      <th>8</th>\n",
       "      <td>8</td>\n",
       "      <td>4.602300e-08</td>\n",
       "      <td>6.669999e-08</td>\n",
       "      <td>0.093078</td>\n",
       "      <td>4720.9795</td>\n",
       "      <td>0.279850</td>\n",
       "      <td>-18048.207604</td>\n",
       "    </tr>\n",
       "    <tr>\n",
       "      <th>9</th>\n",
       "      <td>9</td>\n",
       "      <td>4.067735e-11</td>\n",
       "      <td>7.013336e-11</td>\n",
       "      <td>0.120976</td>\n",
       "      <td>5991.9805</td>\n",
       "      <td>0.268470</td>\n",
       "      <td>-18707.221582</td>\n",
       "    </tr>\n",
       "  </tbody>\n",
       "</table>\n",
       "</div>"
      ],
      "text/plain": [
       "   gene          pval          qval    log2fc       mean      grad  \\\n",
       "0     0  1.005083e-04  1.256354e-04 -0.089716  1450.2695  0.205537   \n",
       "1     1  7.979014e-04  9.387076e-04  0.047177  5241.0785  0.124232   \n",
       "2     2  4.019007e-14  8.372932e-14  0.131362  8880.5740  0.469860   \n",
       "3     3  0.000000e+00  0.000000e+00  0.203520  3364.4980  0.240819   \n",
       "4     4  3.082826e-03  3.463850e-03  0.080100  3611.8310  0.230863   \n",
       "5     5  0.000000e+00  0.000000e+00 -0.150252  8373.6875  0.235287   \n",
       "6     6  3.197547e-06  4.207298e-06  0.070900  2921.2115  0.169612   \n",
       "7     7  0.000000e+00  0.000000e+00 -0.307544  2428.1185  0.289185   \n",
       "8     8  4.602300e-08  6.669999e-08  0.093078  4720.9795  0.279850   \n",
       "9     9  4.067735e-11  7.013336e-11  0.120976  5991.9805  0.268470   \n",
       "\n",
       "             ll  \n",
       "0 -16273.168788  \n",
       "1 -18173.203094  \n",
       "2 -18684.028009  \n",
       "3 -17278.673740  \n",
       "4 -17733.140070  \n",
       "5 -19362.988023  \n",
       "6 -16601.772086  \n",
       "7 -16450.619625  \n",
       "8 -18048.207604  \n",
       "9 -18707.221582  "
      ]
     },
     "execution_count": 12,
     "metadata": {},
     "output_type": "execute_result"
    }
   ],
   "source": [
    "test_coef.summary().iloc[:10,:]"
   ]
  },
  {
   "cell_type": "code",
   "execution_count": 13,
   "metadata": {
    "scrolled": false
   },
   "outputs": [
    {
     "data": {
      "text/plain": [
       "(<Figure size 432x288 with 1 Axes>,\n",
       " <matplotlib.axes._subplots.AxesSubplot at 0x1c335e5d30>)"
      ]
     },
     "execution_count": 13,
     "metadata": {},
     "output_type": "execute_result"
    },
    {
     "data": {
      "image/png": "[encoded data removed]",
      "text/plain": [
       "<Figure size 432x288 with 1 Axes>"
      ]
     },
     "metadata": {
      "needs_background": "light"
     },
     "output_type": "display_data"
    }
   ],
   "source": [
    "test_coef.plot_volcano()"
   ]
  },
  {
   "cell_type": "markdown",
   "metadata": {},
   "source": [
    "# Compare results"
   ]
  },
  {
   "cell_type": "markdown",
   "metadata": {},
   "source": [
    "The factor and coefficient wise test should be the same, they are two input options to phrase the exact same test."
   ]
  },
  {
   "cell_type": "code",
   "execution_count": 14,
   "metadata": {},
   "outputs": [
    {
     "data": {
      "text/plain": [
       "<matplotlib.axes._subplots.AxesSubplot at 0x1c3318bfd0>"
      ]
     },
     "execution_count": 14,
     "metadata": {},
     "output_type": "execute_result"
    },
    {
     "data": {
      "image/png": "[encoded data removed]",
      "text/plain": [
       "<Figure size 432x288 with 1 Axes>"
      ]
     },
     "metadata": {
      "needs_background": "light"
     },
     "output_type": "display_data"
    }
   ],
   "source": [
    "test_fac_pval = np.log(test_fac.pval)\n",
    "test_fac_pval[test_fac_pval < -30] = -30\n",
    "test_coef_pval = np.log(test_coef.pval)\n",
    "test_coef_pval[test_coef_pval < -30] = -30\n",
    "sns.scatterplot(test_fac_pval, test_coef_pval)"
   ]
  }
 ],
 "metadata": {
  "kernelspec": {
   "display_name": "Python 3",
   "language": "python",
   "name": "python3"
  },
  "language_info": {
   "codemirror_mode": {
    "name": "ipython",
    "version": 3
   },
   "file_extension": ".py",
   "mimetype": "text/x-python",
   "name": "python",
   "nbconvert_exporter": "python",
   "pygments_lexer": "ipython3",
   "version": "3.6.5"
  },
  "toc": {
   "base_numbering": 1,
   "nav_menu": {},
   "number_sections": false,
   "sideBar": false,
   "skip_h1_title": false,
   "title_cell": "Table of Contents",
   "title_sidebar": "Contents",
   "toc_cell": false,
   "toc_position": {},
   "toc_section_display": false,
   "toc_window_display": false
  }
 },
 "nbformat": 4,
 "nbformat_minor": 1
}
