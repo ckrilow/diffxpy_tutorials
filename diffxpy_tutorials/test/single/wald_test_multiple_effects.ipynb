{
 "cells": [
  {
   "cell_type": "code",
   "execution_count": 1,
   "metadata": {},
   "outputs": [],
   "source": [
    "%matplotlib inline\n",
    "import matplotlib.pyplot as plt\n",
    "import seaborn as sns\n",
    "import logging\n",
    "\n",
    "import scipy.stats\n",
    "import numpy as np"
   ]
  },
  {
   "cell_type": "code",
   "execution_count": 2,
   "metadata": {},
   "outputs": [],
   "source": [
    "import diffxpy.api as de"
   ]
  },
  {
   "cell_type": "code",
   "execution_count": 3,
   "metadata": {},
   "outputs": [],
   "source": [
    "logging.getLogger(\"tensorflow\").setLevel(logging.ERROR)\n",
    "logging.getLogger(\"batchglm\").setLevel(logging.INFO)\n",
    "logging.getLogger(\"diffxpy\").setLevel(logging.INFO)"
   ]
  },
  {
   "cell_type": "markdown",
   "metadata": {},
   "source": [
    "# Generate some data:"
   ]
  },
  {
   "cell_type": "code",
   "execution_count": 4,
   "metadata": {},
   "outputs": [],
   "source": [
    "from batchglm.api.models.glm_nb import Simulator\n",
    "\n",
    "sim = Simulator(num_observations=2000, num_features=100)\n",
    "sim.generate_sample_description(num_batches=0, num_conditions=4)\n",
    "sim.generate_params()\n",
    "sim.generate_data()"
   ]
  },
  {
   "cell_type": "markdown",
   "metadata": {},
   "source": [
    "# Test entire factor"
   ]
  },
  {
   "cell_type": "code",
   "execution_count": 5,
   "metadata": {
    "scrolled": false
   },
   "outputs": [
    {
     "name": "stdout",
     "output_type": "stream",
     "text": [
      "INFO:diffxpy.testing.base:Fitting model...\n"
     ]
    },
    {
     "name": "stderr",
     "output_type": "stream",
     "text": [
      "/Users/david.fischer/miniconda3/lib/python3.6/site-packages/tensorflow/python/util/tf_inspect.py:75: DeprecationWarning: inspect.getargspec() is deprecated, use inspect.signature() or inspect.getfullargspec()\n",
      "  return _inspect.getargspec(target)\n",
      "/Users/david.fischer/miniconda3/lib/python3.6/site-packages/tensorflow/python/util/tf_inspect.py:75: DeprecationWarning: inspect.getargspec() is deprecated, use inspect.signature() or inspect.getfullargspec()\n",
      "  return _inspect.getargspec(target)\n",
      "/Users/david.fischer/miniconda3/lib/python3.6/site-packages/tensorflow/python/util/tf_inspect.py:75: DeprecationWarning: inspect.getargspec() is deprecated, use inspect.signature() or inspect.getfullargspec()\n",
      "  return _inspect.getargspec(target)\n",
      "/Users/david.fischer/miniconda3/lib/python3.6/site-packages/tensorflow/python/util/tf_inspect.py:75: DeprecationWarning: inspect.getargspec() is deprecated, use inspect.signature() or inspect.getfullargspec()\n",
      "  return _inspect.getargspec(target)\n"
     ]
    }
   ],
   "source": [
    "test_fac = de.test.wald(\n",
    "    data=sim.X,\n",
    "    formula_loc=\"~ 1 + condition\",\n",
    "    factor_loc_totest=\"condition\",\n",
    "    sample_description=sim.sample_description,\n",
    "    batch_size=100,\n",
    "    training_strategy=\"DEFAULT\",\n",
    "    dtype=\"float64\"\n",
    ")"
   ]
  },
  {
   "cell_type": "code",
   "execution_count": 6,
   "metadata": {
    "scrolled": false
   },
   "outputs": [
    {
     "data": {
      "text/html": [
       "<div>\n",
       "<style scoped>\n",
       "    .dataframe tbody tr th:only-of-type {\n",
       "        vertical-align: middle;\n",
       "    }\n",
       "\n",
       "    .dataframe tbody tr th {\n",
       "        vertical-align: top;\n",
       "    }\n",
       "\n",
       "    .dataframe thead th {\n",
       "        text-align: right;\n",
       "    }\n",
       "</style>\n",
       "<table border=\"1\" class=\"dataframe\">\n",
       "  <thead>\n",
       "    <tr style=\"text-align: right;\">\n",
       "      <th></th>\n",
       "      <th>gene</th>\n",
       "      <th>pval</th>\n",
       "      <th>qval</th>\n",
       "      <th>log2fc</th>\n",
       "      <th>mean</th>\n",
       "      <th>grad</th>\n",
       "      <th>ll</th>\n",
       "    </tr>\n",
       "  </thead>\n",
       "  <tbody>\n",
       "    <tr>\n",
       "      <th>0</th>\n",
       "      <td>0</td>\n",
       "      <td>0.000000e+00</td>\n",
       "      <td>0.000000e+00</td>\n",
       "      <td>-0.623362</td>\n",
       "      <td>524.3465</td>\n",
       "      <td>-5.732372</td>\n",
       "      <td>-13986.912173</td>\n",
       "    </tr>\n",
       "    <tr>\n",
       "      <th>1</th>\n",
       "      <td>1</td>\n",
       "      <td>0.000000e+00</td>\n",
       "      <td>0.000000e+00</td>\n",
       "      <td>0.554517</td>\n",
       "      <td>722.0995</td>\n",
       "      <td>0.017031</td>\n",
       "      <td>-15094.933032</td>\n",
       "    </tr>\n",
       "    <tr>\n",
       "      <th>2</th>\n",
       "      <td>2</td>\n",
       "      <td>0.000000e+00</td>\n",
       "      <td>0.000000e+00</td>\n",
       "      <td>-0.565846</td>\n",
       "      <td>464.9435</td>\n",
       "      <td>-0.000554</td>\n",
       "      <td>-14196.188188</td>\n",
       "    </tr>\n",
       "    <tr>\n",
       "      <th>3</th>\n",
       "      <td>3</td>\n",
       "      <td>4.263256e-14</td>\n",
       "      <td>4.790176e-14</td>\n",
       "      <td>0.320814</td>\n",
       "      <td>533.4245</td>\n",
       "      <td>-0.150438</td>\n",
       "      <td>-14494.286294</td>\n",
       "    </tr>\n",
       "    <tr>\n",
       "      <th>4</th>\n",
       "      <td>4</td>\n",
       "      <td>0.000000e+00</td>\n",
       "      <td>0.000000e+00</td>\n",
       "      <td>0.641644</td>\n",
       "      <td>713.3575</td>\n",
       "      <td>-1.812485</td>\n",
       "      <td>-14716.925688</td>\n",
       "    </tr>\n",
       "    <tr>\n",
       "      <th>5</th>\n",
       "      <td>5</td>\n",
       "      <td>0.000000e+00</td>\n",
       "      <td>0.000000e+00</td>\n",
       "      <td>-0.642559</td>\n",
       "      <td>509.8435</td>\n",
       "      <td>-0.021054</td>\n",
       "      <td>-14347.927228</td>\n",
       "    </tr>\n",
       "    <tr>\n",
       "      <th>6</th>\n",
       "      <td>6</td>\n",
       "      <td>0.000000e+00</td>\n",
       "      <td>0.000000e+00</td>\n",
       "      <td>0.576617</td>\n",
       "      <td>604.3960</td>\n",
       "      <td>-0.441091</td>\n",
       "      <td>-14484.849257</td>\n",
       "    </tr>\n",
       "    <tr>\n",
       "      <th>7</th>\n",
       "      <td>7</td>\n",
       "      <td>1.110223e-16</td>\n",
       "      <td>1.290957e-16</td>\n",
       "      <td>0.670479</td>\n",
       "      <td>736.6925</td>\n",
       "      <td>0.000001</td>\n",
       "      <td>-14953.683403</td>\n",
       "    </tr>\n",
       "    <tr>\n",
       "      <th>8</th>\n",
       "      <td>8</td>\n",
       "      <td>0.000000e+00</td>\n",
       "      <td>0.000000e+00</td>\n",
       "      <td>0.668070</td>\n",
       "      <td>622.3150</td>\n",
       "      <td>-0.213065</td>\n",
       "      <td>-14727.123289</td>\n",
       "    </tr>\n",
       "    <tr>\n",
       "      <th>9</th>\n",
       "      <td>9</td>\n",
       "      <td>0.000000e+00</td>\n",
       "      <td>0.000000e+00</td>\n",
       "      <td>0.463372</td>\n",
       "      <td>524.6420</td>\n",
       "      <td>-0.018565</td>\n",
       "      <td>-14424.225948</td>\n",
       "    </tr>\n",
       "  </tbody>\n",
       "</table>\n",
       "</div>"
      ],
      "text/plain": [
       "   gene          pval          qval    log2fc      mean      grad  \\\n",
       "0     0  0.000000e+00  0.000000e+00 -0.623362  524.3465 -5.732372   \n",
       "1     1  0.000000e+00  0.000000e+00  0.554517  722.0995  0.017031   \n",
       "2     2  0.000000e+00  0.000000e+00 -0.565846  464.9435 -0.000554   \n",
       "3     3  4.263256e-14  4.790176e-14  0.320814  533.4245 -0.150438   \n",
       "4     4  0.000000e+00  0.000000e+00  0.641644  713.3575 -1.812485   \n",
       "5     5  0.000000e+00  0.000000e+00 -0.642559  509.8435 -0.021054   \n",
       "6     6  0.000000e+00  0.000000e+00  0.576617  604.3960 -0.441091   \n",
       "7     7  1.110223e-16  1.290957e-16  0.670479  736.6925  0.000001   \n",
       "8     8  0.000000e+00  0.000000e+00  0.668070  622.3150 -0.213065   \n",
       "9     9  0.000000e+00  0.000000e+00  0.463372  524.6420 -0.018565   \n",
       "\n",
       "             ll  \n",
       "0 -13986.912173  \n",
       "1 -15094.933032  \n",
       "2 -14196.188188  \n",
       "3 -14494.286294  \n",
       "4 -14716.925688  \n",
       "5 -14347.927228  \n",
       "6 -14484.849257  \n",
       "7 -14953.683403  \n",
       "8 -14727.123289  \n",
       "9 -14424.225948  "
      ]
     },
     "execution_count": 6,
     "metadata": {},
     "output_type": "execute_result"
    }
   ],
   "source": [
    "test_fac.summary().iloc[:10,:]"
   ]
  },
  {
   "cell_type": "code",
   "execution_count": 7,
   "metadata": {},
   "outputs": [
    {
     "data": {
      "text/plain": [
       "(100, 5)"
      ]
     },
     "execution_count": 7,
     "metadata": {},
     "output_type": "execute_result"
    }
   ],
   "source": [
    "test_fac.theta_sd.shape"
   ]
  },
  {
   "cell_type": "markdown",
   "metadata": {},
   "source": [
    "The volcano plot looks a bit weird because only the maximal coefficient is shown, the pvalue comes from a test which is base on the full set of coefficients though."
   ]
  },
  {
   "cell_type": "code",
   "execution_count": 8,
   "metadata": {
    "scrolled": true
   },
   "outputs": [
    {
     "data": {
      "image/png": "[encoded data removed]",
      "text/plain": [
       "<Figure size 432x288 with 1 Axes>"
      ]
     },
     "metadata": {
      "needs_background": "light"
     },
     "output_type": "display_data"
    },
    {
     "data": {
      "text/plain": [
       "<matplotlib.axes._subplots.AxesSubplot at 0x1c27c238d0>"
      ]
     },
     "execution_count": 8,
     "metadata": {},
     "output_type": "execute_result"
    }
   ],
   "source": [
    "test_fac.plot_volcano()"
   ]
  },
  {
   "cell_type": "markdown",
   "metadata": {},
   "source": [
    "# Test specific coefficients"
   ]
  },
  {
   "cell_type": "markdown",
   "metadata": {},
   "source": [
    "Check coefficient names in model by pre-genereating design matrix from sample description (the corresponding function is provided through diffxpy and provides the same design matrix as is later used within the test):"
   ]
  },
  {
   "cell_type": "code",
   "execution_count": 9,
   "metadata": {
    "scrolled": true
   },
   "outputs": [
    {
     "data": {
      "text/plain": [
       "['Intercept', 'condition[T.1]', 'condition[T.2]', 'condition[T.3]']"
      ]
     },
     "execution_count": 9,
     "metadata": {},
     "output_type": "execute_result"
    }
   ],
   "source": [
    "de.test.coef_names(\n",
    "    data=sim.X, \n",
    "    sample_description=sim.sample_description, \n",
    "    formula=\"~ 1 + condition\"\n",
    ")"
   ]
  },
  {
   "cell_type": "markdown",
   "metadata": {},
   "source": [
    "Run test on all coefficients related to condition (i.e. all three condition effects, the fourth one is absorbed into the intercept):"
   ]
  },
  {
   "cell_type": "code",
   "execution_count": 11,
   "metadata": {
    "scrolled": true
   },
   "outputs": [
    {
     "name": "stdout",
     "output_type": "stream",
     "text": [
      "INFO:diffxpy.testing.base:Fitting model...\n"
     ]
    },
    {
     "name": "stderr",
     "output_type": "stream",
     "text": [
      "/Users/david.fischer/miniconda3/lib/python3.6/site-packages/tensorflow/python/util/tf_inspect.py:75: DeprecationWarning: inspect.getargspec() is deprecated, use inspect.signature() or inspect.getfullargspec()\n",
      "  return _inspect.getargspec(target)\n",
      "/Users/david.fischer/miniconda3/lib/python3.6/site-packages/tensorflow/python/util/tf_inspect.py:75: DeprecationWarning: inspect.getargspec() is deprecated, use inspect.signature() or inspect.getfullargspec()\n",
      "  return _inspect.getargspec(target)\n",
      "/Users/david.fischer/miniconda3/lib/python3.6/site-packages/tensorflow/python/util/tf_inspect.py:75: DeprecationWarning: inspect.getargspec() is deprecated, use inspect.signature() or inspect.getfullargspec()\n",
      "  return _inspect.getargspec(target)\n",
      "/Users/david.fischer/miniconda3/lib/python3.6/site-packages/tensorflow/python/util/tf_inspect.py:75: DeprecationWarning: inspect.getargspec() is deprecated, use inspect.signature() or inspect.getfullargspec()\n",
      "  return _inspect.getargspec(target)\n"
     ]
    }
   ],
   "source": [
    "test_coef = de.test.wald(\n",
    "    data=sim.X,\n",
    "    formula_loc=\"~ 1 + condition\",\n",
    "    coef_to_test=['condition[T.1]', 'condition[T.2]', 'condition[T.3]'],\n",
    "    sample_description=sim.sample_description,\n",
    "    batch_size=100,\n",
    "    training_strategy=\"DEFAULT\",\n",
    "    dtype=\"float64\"\n",
    ")"
   ]
  },
  {
   "cell_type": "code",
   "execution_count": 12,
   "metadata": {
    "scrolled": true
   },
   "outputs": [
    {
     "data": {
      "text/html": [
       "<div>\n",
       "<style scoped>\n",
       "    .dataframe tbody tr th:only-of-type {\n",
       "        vertical-align: middle;\n",
       "    }\n",
       "\n",
       "    .dataframe tbody tr th {\n",
       "        vertical-align: top;\n",
       "    }\n",
       "\n",
       "    .dataframe thead th {\n",
       "        text-align: right;\n",
       "    }\n",
       "</style>\n",
       "<table border=\"1\" class=\"dataframe\">\n",
       "  <thead>\n",
       "    <tr style=\"text-align: right;\">\n",
       "      <th></th>\n",
       "      <th>gene</th>\n",
       "      <th>pval</th>\n",
       "      <th>qval</th>\n",
       "      <th>log2fc</th>\n",
       "      <th>mean</th>\n",
       "      <th>grad</th>\n",
       "      <th>ll</th>\n",
       "    </tr>\n",
       "  </thead>\n",
       "  <tbody>\n",
       "    <tr>\n",
       "      <th>0</th>\n",
       "      <td>0</td>\n",
       "      <td>0.000000e+00</td>\n",
       "      <td>0.000000e+00</td>\n",
       "      <td>-0.623362</td>\n",
       "      <td>524.3465</td>\n",
       "      <td>-5.732372</td>\n",
       "      <td>-13986.912173</td>\n",
       "    </tr>\n",
       "    <tr>\n",
       "      <th>1</th>\n",
       "      <td>1</td>\n",
       "      <td>0.000000e+00</td>\n",
       "      <td>0.000000e+00</td>\n",
       "      <td>0.554517</td>\n",
       "      <td>722.0995</td>\n",
       "      <td>0.017031</td>\n",
       "      <td>-15094.933032</td>\n",
       "    </tr>\n",
       "    <tr>\n",
       "      <th>2</th>\n",
       "      <td>2</td>\n",
       "      <td>0.000000e+00</td>\n",
       "      <td>0.000000e+00</td>\n",
       "      <td>-0.565846</td>\n",
       "      <td>464.9435</td>\n",
       "      <td>-0.000554</td>\n",
       "      <td>-14196.188188</td>\n",
       "    </tr>\n",
       "    <tr>\n",
       "      <th>3</th>\n",
       "      <td>3</td>\n",
       "      <td>4.263256e-14</td>\n",
       "      <td>4.790176e-14</td>\n",
       "      <td>0.320814</td>\n",
       "      <td>533.4245</td>\n",
       "      <td>-0.150438</td>\n",
       "      <td>-14494.286294</td>\n",
       "    </tr>\n",
       "    <tr>\n",
       "      <th>4</th>\n",
       "      <td>4</td>\n",
       "      <td>0.000000e+00</td>\n",
       "      <td>0.000000e+00</td>\n",
       "      <td>0.641644</td>\n",
       "      <td>713.3575</td>\n",
       "      <td>-1.812485</td>\n",
       "      <td>-14716.925688</td>\n",
       "    </tr>\n",
       "    <tr>\n",
       "      <th>5</th>\n",
       "      <td>5</td>\n",
       "      <td>0.000000e+00</td>\n",
       "      <td>0.000000e+00</td>\n",
       "      <td>-0.642559</td>\n",
       "      <td>509.8435</td>\n",
       "      <td>-0.021054</td>\n",
       "      <td>-14347.927228</td>\n",
       "    </tr>\n",
       "    <tr>\n",
       "      <th>6</th>\n",
       "      <td>6</td>\n",
       "      <td>0.000000e+00</td>\n",
       "      <td>0.000000e+00</td>\n",
       "      <td>0.576617</td>\n",
       "      <td>604.3960</td>\n",
       "      <td>-0.441091</td>\n",
       "      <td>-14484.849257</td>\n",
       "    </tr>\n",
       "    <tr>\n",
       "      <th>7</th>\n",
       "      <td>7</td>\n",
       "      <td>1.110223e-16</td>\n",
       "      <td>1.290957e-16</td>\n",
       "      <td>0.670479</td>\n",
       "      <td>736.6925</td>\n",
       "      <td>0.000001</td>\n",
       "      <td>-14953.683403</td>\n",
       "    </tr>\n",
       "    <tr>\n",
       "      <th>8</th>\n",
       "      <td>8</td>\n",
       "      <td>0.000000e+00</td>\n",
       "      <td>0.000000e+00</td>\n",
       "      <td>0.668070</td>\n",
       "      <td>622.3150</td>\n",
       "      <td>-0.213065</td>\n",
       "      <td>-14727.123289</td>\n",
       "    </tr>\n",
       "    <tr>\n",
       "      <th>9</th>\n",
       "      <td>9</td>\n",
       "      <td>0.000000e+00</td>\n",
       "      <td>0.000000e+00</td>\n",
       "      <td>0.463372</td>\n",
       "      <td>524.6420</td>\n",
       "      <td>-0.018565</td>\n",
       "      <td>-14424.225948</td>\n",
       "    </tr>\n",
       "  </tbody>\n",
       "</table>\n",
       "</div>"
      ],
      "text/plain": [
       "   gene          pval          qval    log2fc      mean      grad  \\\n",
       "0     0  0.000000e+00  0.000000e+00 -0.623362  524.3465 -5.732372   \n",
       "1     1  0.000000e+00  0.000000e+00  0.554517  722.0995  0.017031   \n",
       "2     2  0.000000e+00  0.000000e+00 -0.565846  464.9435 -0.000554   \n",
       "3     3  4.263256e-14  4.790176e-14  0.320814  533.4245 -0.150438   \n",
       "4     4  0.000000e+00  0.000000e+00  0.641644  713.3575 -1.812485   \n",
       "5     5  0.000000e+00  0.000000e+00 -0.642559  509.8435 -0.021054   \n",
       "6     6  0.000000e+00  0.000000e+00  0.576617  604.3960 -0.441091   \n",
       "7     7  1.110223e-16  1.290957e-16  0.670479  736.6925  0.000001   \n",
       "8     8  0.000000e+00  0.000000e+00  0.668070  622.3150 -0.213065   \n",
       "9     9  0.000000e+00  0.000000e+00  0.463372  524.6420 -0.018565   \n",
       "\n",
       "             ll  \n",
       "0 -13986.912173  \n",
       "1 -15094.933032  \n",
       "2 -14196.188188  \n",
       "3 -14494.286294  \n",
       "4 -14716.925688  \n",
       "5 -14347.927228  \n",
       "6 -14484.849257  \n",
       "7 -14953.683403  \n",
       "8 -14727.123289  \n",
       "9 -14424.225948  "
      ]
     },
     "execution_count": 12,
     "metadata": {},
     "output_type": "execute_result"
    }
   ],
   "source": [
    "test_coef.summary().iloc[:10,:]"
   ]
  },
  {
   "cell_type": "code",
   "execution_count": 13,
   "metadata": {
    "scrolled": false
   },
   "outputs": [
    {
     "data": {
      "image/png": "[encoded data removed]",
      "text/plain": [
       "<Figure size 432x288 with 1 Axes>"
      ]
     },
     "metadata": {
      "needs_background": "light"
     },
     "output_type": "display_data"
    },
    {
     "data": {
      "text/plain": [
       "<matplotlib.axes._subplots.AxesSubplot at 0x1c29cdde10>"
      ]
     },
     "execution_count": 13,
     "metadata": {},
     "output_type": "execute_result"
    }
   ],
   "source": [
    "test_coef.plot_volcano()"
   ]
  },
  {
   "cell_type": "markdown",
   "metadata": {},
   "source": [
    "# Compare results"
   ]
  },
  {
   "cell_type": "markdown",
   "metadata": {},
   "source": [
    "The factor and coefficient wise test should be the same, they are two input options to phrase the exact same test."
   ]
  },
  {
   "cell_type": "code",
   "execution_count": 14,
   "metadata": {},
   "outputs": [
    {
     "name": "stderr",
     "output_type": "stream",
     "text": [
      "/Users/david.fischer/miniconda3/lib/python3.6/site-packages/ipykernel_launcher.py:1: RuntimeWarning: divide by zero encountered in log\n",
      "  \"\"\"Entry point for launching an IPython kernel.\n",
      "/Users/david.fischer/miniconda3/lib/python3.6/site-packages/ipykernel_launcher.py:3: RuntimeWarning: divide by zero encountered in log\n",
      "  This is separate from the ipykernel package so we can avoid doing imports until\n"
     ]
    },
    {
     "data": {
      "text/plain": [
       "<matplotlib.axes._subplots.AxesSubplot at 0x1c29d07e48>"
      ]
     },
     "execution_count": 14,
     "metadata": {},
     "output_type": "execute_result"
    }
   ],
   "source": [
    "test_fac_pval = np.log(test_fac.pval)\n",
    "test_fac_pval[test_fac_pval < -30] = -30\n",
    "test_coef_pval = np.log(test_coef.pval)\n",
    "test_coef_pval[test_coef_pval < -30] = -30\n",
    "sns.scatterplot(test_fac_pval, test_coef_pval)"
   ]
  }
 ],
 "metadata": {
  "kernelspec": {
   "display_name": "Python 3",
   "language": "python",
   "name": "python3"
  },
  "language_info": {
   "codemirror_mode": {
    "name": "ipython",
    "version": 3
   },
   "file_extension": ".py",
   "mimetype": "text/x-python",
   "name": "python",
   "nbconvert_exporter": "python",
   "pygments_lexer": "ipython3",
   "version": "3.6.5"
  },
  "toc": {
   "base_numbering": 1,
   "nav_menu": {},
   "number_sections": false,
   "sideBar": false,
   "skip_h1_title": false,
   "title_cell": "Table of Contents",
   "title_sidebar": "Contents",
   "toc_cell": false,
   "toc_position": {},
   "toc_section_display": false,
   "toc_window_display": false
  }
 },
 "nbformat": 4,
 "nbformat_minor": 1
}
