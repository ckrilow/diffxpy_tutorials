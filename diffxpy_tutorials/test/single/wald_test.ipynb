{
 "cells": [
  {
   "cell_type": "code",
   "execution_count": 1,
   "metadata": {},
   "outputs": [],
   "source": [
    "%matplotlib inline\n",
    "import matplotlib.pyplot as plt\n",
    "import seaborn as sns\n",
    "import logging\n",
    "\n",
    "import scipy.stats\n",
    "import numpy as np"
   ]
  },
  {
   "cell_type": "code",
   "execution_count": 2,
   "metadata": {},
   "outputs": [],
   "source": [
    "from batchglm.api.models.nb_glm import Simulator\n",
    "import diffxpy.api as de"
   ]
  },
  {
   "cell_type": "code",
   "execution_count": 3,
   "metadata": {},
   "outputs": [],
   "source": [
    "logging.getLogger(\"tensorflow\").setLevel(logging.ERROR)\n",
    "logging.getLogger(\"batchglm\").setLevel(logging.INFO)\n",
    "logging.getLogger(\"diffxpy\").setLevel(logging.INFO)"
   ]
  },
  {
   "cell_type": "markdown",
   "metadata": {},
   "source": [
    "# Generate some data:"
   ]
  },
  {
   "cell_type": "code",
   "execution_count": 4,
   "metadata": {},
   "outputs": [],
   "source": [
    "sim = Simulator(num_observations=2000, num_features=100)\n",
    "sim.generate_sample_description(num_batches=0, num_conditions=2)\n",
    "# sample parameters from positive truncated N(1, 0.1)\n",
    "mu=1; phi=0.1\n",
    "sim.generate_params(rand_fn_loc=lambda size: mu + scipy.stats.truncnorm.rvs(-mu / phi, np.infty, scale=phi, size=size))\n",
    "sim.generate_data()\n",
    "\n",
    "X = sim.X # count data\n",
    "sample_description = sim.sample_description"
   ]
  },
  {
   "cell_type": "markdown",
   "metadata": {},
   "source": [
    "The sample description should be a pandas DataFrame with `num_observations` rows.\n",
    "Each column should represent a property of the dataset.\n",
    "\n",
    "The module `batchglm.api.data` contains some helper functions which can be useful to create this sample description:\n",
    "\n",
    "- `sample_description_from_anndata()`\n",
    "- `sample_description_from_xarray()`"
   ]
  },
  {
   "cell_type": "code",
   "execution_count": 5,
   "metadata": {
    "scrolled": true
   },
   "outputs": [
    {
     "data": {
      "text/html": [
       "<div>\n",
       "<style scoped>\n",
       "    .dataframe tbody tr th:only-of-type {\n",
       "        vertical-align: middle;\n",
       "    }\n",
       "\n",
       "    .dataframe tbody tr th {\n",
       "        vertical-align: top;\n",
       "    }\n",
       "\n",
       "    .dataframe thead th {\n",
       "        text-align: right;\n",
       "    }\n",
       "</style>\n",
       "<table border=\"1\" class=\"dataframe\">\n",
       "  <thead>\n",
       "    <tr style=\"text-align: right;\">\n",
       "      <th></th>\n",
       "      <th>condition</th>\n",
       "    </tr>\n",
       "    <tr>\n",
       "      <th>observations</th>\n",
       "      <th></th>\n",
       "    </tr>\n",
       "  </thead>\n",
       "  <tbody>\n",
       "    <tr>\n",
       "      <th>0</th>\n",
       "      <td>0</td>\n",
       "    </tr>\n",
       "    <tr>\n",
       "      <th>1</th>\n",
       "      <td>1</td>\n",
       "    </tr>\n",
       "    <tr>\n",
       "      <th>2</th>\n",
       "      <td>0</td>\n",
       "    </tr>\n",
       "    <tr>\n",
       "      <th>3</th>\n",
       "      <td>1</td>\n",
       "    </tr>\n",
       "    <tr>\n",
       "      <th>4</th>\n",
       "      <td>0</td>\n",
       "    </tr>\n",
       "    <tr>\n",
       "      <th>5</th>\n",
       "      <td>1</td>\n",
       "    </tr>\n",
       "    <tr>\n",
       "      <th>6</th>\n",
       "      <td>0</td>\n",
       "    </tr>\n",
       "    <tr>\n",
       "      <th>7</th>\n",
       "      <td>1</td>\n",
       "    </tr>\n",
       "    <tr>\n",
       "      <th>8</th>\n",
       "      <td>0</td>\n",
       "    </tr>\n",
       "    <tr>\n",
       "      <th>9</th>\n",
       "      <td>1</td>\n",
       "    </tr>\n",
       "  </tbody>\n",
       "</table>\n",
       "</div>"
      ],
      "text/plain": [
       "             condition\n",
       "observations          \n",
       "0                    0\n",
       "1                    1\n",
       "2                    0\n",
       "3                    1\n",
       "4                    0\n",
       "5                    1\n",
       "6                    0\n",
       "7                    1\n",
       "8                    0\n",
       "9                    1"
      ]
     },
     "execution_count": 5,
     "metadata": {},
     "output_type": "execute_result"
    }
   ],
   "source": [
    "sample_description.iloc[:10,:]"
   ]
  },
  {
   "cell_type": "markdown",
   "metadata": {},
   "source": [
    "# Run differential expression test"
   ]
  },
  {
   "cell_type": "markdown",
   "metadata": {},
   "source": [
    "The wald test checks if a certain coefficient introduces a significant difference in the expression of a gene.\n",
    "\n",
    "It needs a statistical formula `formula` which describes the setup of the model and the factor of the formula `factor_loc_totest` which should be tested.\n",
    "\n",
    "Usually, this factor divides the samples into two groups, e.g. `condition 0` and `condition 1`.\n",
    "In this case, diffxpy will automatically choose the coefficient to test.\n",
    "If there are more than two groups specified by the factor, the coefficient which should be tested has to be set manually by specifying `coef_totest`. This coefficient should refer to one of the groups specified by `factor_loc_totest`, e.g. `condition 1`.\n"
   ]
  },
  {
   "cell_type": "code",
   "execution_count": 6,
   "metadata": {
    "scrolled": true
   },
   "outputs": [
    {
     "name": "stdout",
     "output_type": "stream",
     "text": [
      "INFO:diffxpy.testing.base:Fitting model...\n"
     ]
    },
    {
     "name": "stderr",
     "output_type": "stream",
     "text": [
      "/Users/david.fischer/miniconda3/lib/python3.6/site-packages/tensorflow/python/util/tf_inspect.py:75: DeprecationWarning: inspect.getargspec() is deprecated, use inspect.signature() or inspect.getfullargspec()\n",
      "  return _inspect.getargspec(target)\n",
      "/Users/david.fischer/miniconda3/lib/python3.6/site-packages/tensorflow/python/util/tf_inspect.py:75: DeprecationWarning: inspect.getargspec() is deprecated, use inspect.signature() or inspect.getfullargspec()\n",
      "  return _inspect.getargspec(target)\n",
      "/Users/david.fischer/miniconda3/lib/python3.6/site-packages/tensorflow/python/util/tf_inspect.py:75: DeprecationWarning: inspect.getargspec() is deprecated, use inspect.signature() or inspect.getfullargspec()\n",
      "  return _inspect.getargspec(target)\n",
      "/Users/david.fischer/miniconda3/lib/python3.6/site-packages/tensorflow/python/util/tf_inspect.py:75: DeprecationWarning: inspect.getargspec() is deprecated, use inspect.signature() or inspect.getfullargspec()\n",
      "  return _inspect.getargspec(target)\n"
     ]
    }
   ],
   "source": [
    "test = de.test.wald(\n",
    "    data=X,\n",
    "    formula=\"~ 1 + condition\",\n",
    "    factor_loc_totest=\"condition\",\n",
    "    sample_description=sample_description,\n",
    "    training_strategy=\"QUICK\",\n",
    "    dtype=\"float64\"\n",
    ")"
   ]
  },
  {
   "cell_type": "markdown",
   "metadata": {},
   "source": [
    "# Obtain the results"
   ]
  },
  {
   "cell_type": "markdown",
   "metadata": {},
   "source": [
    "The p-/q-values can be obtained by calling test.pval / test.qval:"
   ]
  },
  {
   "cell_type": "code",
   "execution_count": 7,
   "metadata": {},
   "outputs": [
    {
     "data": {
      "text/plain": [
       "array([2.79299126e-01, 6.51163161e-01, 3.28626015e-14, 5.59529531e-04,\n",
       "       1.00138131e-08, 2.94738522e-01, 1.12216855e-01, 0.00000000e+00,\n",
       "       1.77635684e-15, 6.37424916e-04])"
      ]
     },
     "execution_count": 7,
     "metadata": {},
     "output_type": "execute_result"
    }
   ],
   "source": [
    "test.pval[:10]"
   ]
  },
  {
   "cell_type": "code",
   "execution_count": 8,
   "metadata": {},
   "outputs": [
    {
     "data": {
      "text/plain": [
       "array([3.21033478e-01, 6.85920643e-01, 1.82570008e-13, 9.17261526e-04,\n",
       "       3.23026229e-08, 3.34930139e-01, 1.40271069e-01, 0.00000000e+00,\n",
       "       1.26882631e-14, 1.02810470e-03])"
      ]
     },
     "execution_count": 8,
     "metadata": {},
     "output_type": "execute_result"
    }
   ],
   "source": [
    "test.qval[:10]"
   ]
  },
  {
   "cell_type": "markdown",
   "metadata": {},
   "source": [
    "test.summary() returns a pandas DataFrame with a quick overview of the test results:"
   ]
  },
  {
   "cell_type": "code",
   "execution_count": 9,
   "metadata": {},
   "outputs": [
    {
     "data": {
      "text/html": [
       "<div>\n",
       "<style scoped>\n",
       "    .dataframe tbody tr th:only-of-type {\n",
       "        vertical-align: middle;\n",
       "    }\n",
       "\n",
       "    .dataframe tbody tr th {\n",
       "        vertical-align: top;\n",
       "    }\n",
       "\n",
       "    .dataframe thead th {\n",
       "        text-align: right;\n",
       "    }\n",
       "</style>\n",
       "<table border=\"1\" class=\"dataframe\">\n",
       "  <thead>\n",
       "    <tr style=\"text-align: right;\">\n",
       "      <th></th>\n",
       "      <th>gene</th>\n",
       "      <th>pval</th>\n",
       "      <th>qval</th>\n",
       "      <th>log2fc</th>\n",
       "      <th>mean</th>\n",
       "      <th>grad</th>\n",
       "      <th>coef_mle</th>\n",
       "      <th>coef_sd</th>\n",
       "      <th>ll</th>\n",
       "    </tr>\n",
       "  </thead>\n",
       "  <tbody>\n",
       "    <tr>\n",
       "      <th>0</th>\n",
       "      <td>0</td>\n",
       "      <td>2.792991e-01</td>\n",
       "      <td>3.210335e-01</td>\n",
       "      <td>-0.016729</td>\n",
       "      <td>7927.2680</td>\n",
       "      <td>0.242761</td>\n",
       "      <td>-0.016729</td>\n",
       "      <td>0.015463</td>\n",
       "      <td>-18587.560455</td>\n",
       "    </tr>\n",
       "    <tr>\n",
       "      <th>1</th>\n",
       "      <td>1</td>\n",
       "      <td>6.511632e-01</td>\n",
       "      <td>6.859206e-01</td>\n",
       "      <td>0.008385</td>\n",
       "      <td>1009.6470</td>\n",
       "      <td>0.119787</td>\n",
       "      <td>0.008385</td>\n",
       "      <td>0.018545</td>\n",
       "      <td>-14782.200455</td>\n",
       "    </tr>\n",
       "    <tr>\n",
       "      <th>2</th>\n",
       "      <td>2</td>\n",
       "      <td>3.286260e-14</td>\n",
       "      <td>1.825700e-13</td>\n",
       "      <td>-0.127129</td>\n",
       "      <td>8168.8705</td>\n",
       "      <td>0.041874</td>\n",
       "      <td>-0.127129</td>\n",
       "      <td>0.016758</td>\n",
       "      <td>-18776.093203</td>\n",
       "    </tr>\n",
       "    <tr>\n",
       "      <th>3</th>\n",
       "      <td>3</td>\n",
       "      <td>5.595295e-04</td>\n",
       "      <td>9.172615e-04</td>\n",
       "      <td>-0.064079</td>\n",
       "      <td>9364.0610</td>\n",
       "      <td>0.099905</td>\n",
       "      <td>-0.064079</td>\n",
       "      <td>0.018571</td>\n",
       "      <td>-19213.137339</td>\n",
       "    </tr>\n",
       "    <tr>\n",
       "      <th>4</th>\n",
       "      <td>4</td>\n",
       "      <td>1.001381e-08</td>\n",
       "      <td>3.230262e-08</td>\n",
       "      <td>0.105365</td>\n",
       "      <td>4308.7030</td>\n",
       "      <td>0.134710</td>\n",
       "      <td>0.105365</td>\n",
       "      <td>0.018387</td>\n",
       "      <td>-17677.018330</td>\n",
       "    </tr>\n",
       "    <tr>\n",
       "      <th>5</th>\n",
       "      <td>5</td>\n",
       "      <td>2.947385e-01</td>\n",
       "      <td>3.349301e-01</td>\n",
       "      <td>0.028158</td>\n",
       "      <td>6282.3170</td>\n",
       "      <td>0.173685</td>\n",
       "      <td>0.028158</td>\n",
       "      <td>0.026874</td>\n",
       "      <td>-18995.771872</td>\n",
       "    </tr>\n",
       "    <tr>\n",
       "      <th>6</th>\n",
       "      <td>6</td>\n",
       "      <td>1.122169e-01</td>\n",
       "      <td>1.402711e-01</td>\n",
       "      <td>-0.022300</td>\n",
       "      <td>1149.7555</td>\n",
       "      <td>0.419735</td>\n",
       "      <td>-0.022300</td>\n",
       "      <td>0.014040</td>\n",
       "      <td>-14543.452087</td>\n",
       "    </tr>\n",
       "    <tr>\n",
       "      <th>7</th>\n",
       "      <td>7</td>\n",
       "      <td>0.000000e+00</td>\n",
       "      <td>0.000000e+00</td>\n",
       "      <td>0.173886</td>\n",
       "      <td>9321.5925</td>\n",
       "      <td>0.027267</td>\n",
       "      <td>0.173886</td>\n",
       "      <td>0.018853</td>\n",
       "      <td>-19253.362136</td>\n",
       "    </tr>\n",
       "    <tr>\n",
       "      <th>8</th>\n",
       "      <td>8</td>\n",
       "      <td>1.776357e-15</td>\n",
       "      <td>1.268826e-14</td>\n",
       "      <td>0.223681</td>\n",
       "      <td>8466.4035</td>\n",
       "      <td>0.088808</td>\n",
       "      <td>0.223681</td>\n",
       "      <td>0.028123</td>\n",
       "      <td>-19670.964029</td>\n",
       "    </tr>\n",
       "    <tr>\n",
       "      <th>9</th>\n",
       "      <td>9</td>\n",
       "      <td>6.374249e-04</td>\n",
       "      <td>1.028105e-03</td>\n",
       "      <td>-0.068308</td>\n",
       "      <td>7949.8100</td>\n",
       "      <td>0.197563</td>\n",
       "      <td>-0.068308</td>\n",
       "      <td>0.020001</td>\n",
       "      <td>-19048.442094</td>\n",
       "    </tr>\n",
       "  </tbody>\n",
       "</table>\n",
       "</div>"
      ],
      "text/plain": [
       "   gene          pval          qval    log2fc       mean      grad  coef_mle  \\\n",
       "0     0  2.792991e-01  3.210335e-01 -0.016729  7927.2680  0.242761 -0.016729   \n",
       "1     1  6.511632e-01  6.859206e-01  0.008385  1009.6470  0.119787  0.008385   \n",
       "2     2  3.286260e-14  1.825700e-13 -0.127129  8168.8705  0.041874 -0.127129   \n",
       "3     3  5.595295e-04  9.172615e-04 -0.064079  9364.0610  0.099905 -0.064079   \n",
       "4     4  1.001381e-08  3.230262e-08  0.105365  4308.7030  0.134710  0.105365   \n",
       "5     5  2.947385e-01  3.349301e-01  0.028158  6282.3170  0.173685  0.028158   \n",
       "6     6  1.122169e-01  1.402711e-01 -0.022300  1149.7555  0.419735 -0.022300   \n",
       "7     7  0.000000e+00  0.000000e+00  0.173886  9321.5925  0.027267  0.173886   \n",
       "8     8  1.776357e-15  1.268826e-14  0.223681  8466.4035  0.088808  0.223681   \n",
       "9     9  6.374249e-04  1.028105e-03 -0.068308  7949.8100  0.197563 -0.068308   \n",
       "\n",
       "    coef_sd            ll  \n",
       "0  0.015463 -18587.560455  \n",
       "1  0.018545 -14782.200455  \n",
       "2  0.016758 -18776.093203  \n",
       "3  0.018571 -19213.137339  \n",
       "4  0.018387 -17677.018330  \n",
       "5  0.026874 -18995.771872  \n",
       "6  0.014040 -14543.452087  \n",
       "7  0.018853 -19253.362136  \n",
       "8  0.028123 -19670.964029  \n",
       "9  0.020001 -19048.442094  "
      ]
     },
     "execution_count": 9,
     "metadata": {},
     "output_type": "execute_result"
    }
   ],
   "source": [
    "test.summary().iloc[:10,:]"
   ]
  },
  {
   "cell_type": "markdown",
   "metadata": {},
   "source": [
    "- `gene`: gene name / identifier\n",
    "- `pval`: p-value of the gene\n",
    "- `qval`: multiple testing - corrected p-value of the gene\n",
    "- `log2fc`: log_2 fold change between `no coefficient` and `coefficient`\n",
    "- `grad`: the gradient of the gene's log-likelihood\n",
    "- `coef_mle` the maximum-likelihood estimate of the coefficient in liker-space\n",
    "- `coef_sd` the standard deviation of the coefficient in liker-space\n",
    "- `ll`: the log-likelihood of the estimation"
   ]
  },
  {
   "cell_type": "markdown",
   "metadata": {},
   "source": [
    "`test.plot_volcano()` creates a volcano plot of p-values vs. fold-change:"
   ]
  },
  {
   "cell_type": "code",
   "execution_count": 21,
   "metadata": {
    "scrolled": false
   },
   "outputs": [
    {
     "data": {
      "text/plain": [
       "(<Figure size 432x288 with 1 Axes>,\n",
       " <matplotlib.axes._subplots.AxesSubplot at 0x1c367b1240>)"
      ]
     },
     "execution_count": 21,
     "metadata": {},
     "output_type": "execute_result"
    },
    {
     "data": {
      "image/png": "[encoded data removed]",
      "text/plain": [
       "<Figure size 432x288 with 1 Axes>"
      ]
     },
     "metadata": {
      "needs_background": "light"
     },
     "output_type": "display_data"
    }
   ],
   "source": [
    "test.plot_volcano(corrected_pval=True, min_fc=1.05, alpha=0.05, size=20)"
   ]
  },
  {
   "cell_type": "markdown",
   "metadata": {},
   "source": [
    "`plot_vs_ttest()` shows the correlation between t-test p-values and the wald test p-values"
   ]
  },
  {
   "cell_type": "code",
   "execution_count": 11,
   "metadata": {},
   "outputs": [
    {
     "data": {
      "text/plain": [
       "(<Figure size 432x288 with 1 Axes>,\n",
       " <matplotlib.axes._subplots.AxesSubplot at 0x1c35952438>)"
      ]
     },
     "execution_count": 11,
     "metadata": {},
     "output_type": "execute_result"
    },
    {
     "data": {
      "image/png": "[encoded data removed]",
      "text/plain": [
       "<Figure size 432x288 with 1 Axes>"
      ]
     },
     "metadata": {
      "needs_background": "light"
     },
     "output_type": "display_data"
    }
   ],
   "source": [
    "test.plot_vs_ttest()"
   ]
  },
  {
   "cell_type": "markdown",
   "metadata": {},
   "source": [
    "`test.plot_diagnostics()` is a shortcut to directly show all diagnostics plots."
   ]
  },
  {
   "cell_type": "code",
   "execution_count": 12,
   "metadata": {},
   "outputs": [
    {
     "data": {
      "image/png": "[encoded data removed]",
      "text/plain": [
       "<Figure size 432x288 with 1 Axes>"
      ]
     },
     "metadata": {
      "needs_background": "light"
     },
     "output_type": "display_data"
    },
    {
     "data": {
      "image/png": "[encoded data removed]",
      "text/plain": [
       "<Figure size 432x288 with 1 Axes>"
      ]
     },
     "metadata": {
      "needs_background": "light"
     },
     "output_type": "display_data"
    }
   ],
   "source": [
    "test.plot_diagnostics()"
   ]
  }
 ],
 "metadata": {
  "kernelspec": {
   "display_name": "Python 3",
   "language": "python",
   "name": "python3"
  },
  "language_info": {
   "codemirror_mode": {
    "name": "ipython",
    "version": 3
   },
   "file_extension": ".py",
   "mimetype": "text/x-python",
   "name": "python",
   "nbconvert_exporter": "python",
   "pygments_lexer": "ipython3",
   "version": "3.6.5"
  },
  "toc": {
   "base_numbering": 1,
   "nav_menu": {},
   "number_sections": false,
   "sideBar": false,
   "skip_h1_title": false,
   "title_cell": "Table of Contents",
   "title_sidebar": "Contents",
   "toc_cell": false,
   "toc_position": {},
   "toc_section_display": false,
   "toc_window_display": false
  }
 },
 "nbformat": 4,
 "nbformat_minor": 1
}
