{
 "cells": [
  {
   "cell_type": "code",
   "execution_count": 1,
   "metadata": {},
   "outputs": [],
   "source": [
    "%matplotlib inline\n",
    "import matplotlib.pyplot as plt\n",
    "import seaborn as sns\n",
    "import logging\n",
    "\n",
    "import scipy.stats\n",
    "import numpy as np\n",
    "import pandas as pd"
   ]
  },
  {
   "cell_type": "code",
   "execution_count": 2,
   "metadata": {},
   "outputs": [],
   "source": [
    "import diffxpy.api as de"
   ]
  },
  {
   "cell_type": "markdown",
   "metadata": {},
   "source": [
    "# Introduction"
   ]
  },
  {
   "cell_type": "markdown",
   "metadata": {},
   "source": [
    "Perfect confounding occurs frequently in differential expression assays, often if biological replicates cannot be spread across conditions: This is often the case with animals or patients. Perfect confounding implies that the corresponding design matrix is not full rank and the model underdetermined. This can be circumvented by certain tricks (where replicates are modeled as the interaction of condition and and a replicate index per condition) which essentially regress repplicates to reference replicates. This may be undesirable as the condition coefficients depend on the identity of the reference replicates and accordingly on the ordering of the replicates, which has no experiental meaning and is purely a result of sample labels. Secondly, such tricks may be hard to come up with in hard cases. Here, we show how one can solve both problems by constraining parameterse in the model. "
   ]
  },
  {
   "cell_type": "markdown",
   "metadata": {},
   "source": [
    "# Example 1"
   ]
  },
  {
   "cell_type": "markdown",
   "metadata": {},
   "source": [
    "In this example, we have 4 biological replicates (animals, patients, cell culture replicates etc.) in a treatment experiment: 2 in each condition (treated, untreated). Accordingly, there is perfect confounding at this level. We circumvent this by constraining the biological replicate coefficients. "
   ]
  },
  {
   "cell_type": "markdown",
   "metadata": {},
   "source": [
    "## Simulate data:"
   ]
  },
  {
   "cell_type": "markdown",
   "metadata": {},
   "source": [
    "### Define design matrices for simulation"
   ]
  },
  {
   "cell_type": "markdown",
   "metadata": {},
   "source": [
    "Here, we built a one-hot encoded design matrix of discrete covariated (biological replicate and treatment) as a numpy array cells x parameters of model. We will later use this design matrix both for the location and scale model"
   ]
  },
  {
   "cell_type": "code",
   "execution_count": 3,
   "metadata": {},
   "outputs": [],
   "source": [
    "ncells = 2000\n",
    "dmat_est_loc = np.zeros([ncells, 6])\n",
    "dmat_est_loc[:,0] = 1\n",
    "dmat_est_loc[:500,1] = 1 # bio rep 1\n",
    "dmat_est_loc[500:1000,2] = 1 # bio rep 2\n",
    "dmat_est_loc[1000:1500,3] = 1 # bio rep 3\n",
    "dmat_est_loc[1500:2000,4] = 1 # bio rep 4\n",
    "dmat_est_loc[1000:2000,5] = 1 # condition effect\n",
    "\n",
    "coefficient_names = ['intercept', 'bio1', 'bio2', 'bio3', 'bio4', 'treatment']\n",
    "dmat_est_loc = pd.DataFrame(data=dmat_est_loc, columns=coefficient_names)\n",
    "dmat_est_loc = de.test.design_matrix(dmat=dmat_est_loc)"
   ]
  },
  {
   "cell_type": "code",
   "execution_count": 4,
   "metadata": {},
   "outputs": [],
   "source": [
    "dmat_est_scale = np.ones([ncells, 1])\n",
    "dmat_est_scale = pd.DataFrame(data=dmat_est_scale, columns=['intercept'])\n",
    "dmat_est_scale = de.test.design_matrix(dmat=dmat_est_scale)"
   ]
  },
  {
   "cell_type": "code",
   "execution_count": 5,
   "metadata": {},
   "outputs": [
    {
     "name": "stdout",
     "output_type": "stream",
     "text": [
      "[[1. 0. 0. 0. 1. 1.]\n",
      " [1. 0. 0. 1. 0. 1.]\n",
      " [1. 0. 1. 0. 0. 0.]\n",
      " [1. 1. 0. 0. 0. 0.]]\n"
     ]
    }
   ],
   "source": [
    "print(np.unique(dmat_est_loc.data_vars[\"design\"], axis=0))"
   ]
  },
  {
   "cell_type": "code",
   "execution_count": 6,
   "metadata": {},
   "outputs": [
    {
     "name": "stdout",
     "output_type": "stream",
     "text": [
      "[[1.]]\n"
     ]
    }
   ],
   "source": [
    "print(np.unique(dmat_est_scale.data_vars[\"design\"], axis=0))"
   ]
  },
  {
   "cell_type": "markdown",
   "metadata": {},
   "source": [
    "### Run simulation"
   ]
  },
  {
   "cell_type": "markdown",
   "metadata": {},
   "source": [
    "Simulate data using the design matrix defined above."
   ]
  },
  {
   "cell_type": "code",
   "execution_count": 7,
   "metadata": {},
   "outputs": [],
   "source": [
    "from batchglm.api.models.glm_nb import Simulator\n",
    "\n",
    "sim = Simulator(num_observations=2000, num_features=100)\n",
    "sim.generate_sample_description(num_batches=0, num_conditions=2)\n",
    "sim.generate_params()\n",
    "sim.generate_data()"
   ]
  },
  {
   "cell_type": "markdown",
   "metadata": {},
   "source": [
    "## Prepare model estimation"
   ]
  },
  {
   "cell_type": "markdown",
   "metadata": {},
   "source": [
    "### Constraints for model"
   ]
  },
  {
   "cell_type": "markdown",
   "metadata": {},
   "source": [
    "Define equality constraints that constrain groups of parameters of confounding variable to sum to zero. These constraints make the perfectly confounded epxerimental design identifiable. Here, we have two groups of biological replicates, such as individuals, per condition. Each of these groups is forced to sum to zero so that the treatment effect is the difference between the means of the sample values in log space (inverse linker space). These constraints are encoded as strings. Note that the coefficient names have to be the exactly as defined in the design matrix."
   ]
  },
  {
   "cell_type": "code",
   "execution_count": 8,
   "metadata": {},
   "outputs": [],
   "source": [
    "constraints_loc = de.utils.data_utils.build_equality_constraints_string(\n",
    "    dmat=dmat_est_loc,\n",
    "    constraints=[\"bio1+bio2=0\", \"bio3+bio4=0\"],\n",
    "    dims=[\"design_loc_params\", \"loc_params\"]\n",
    ")"
   ]
  },
  {
   "cell_type": "markdown",
   "metadata": {},
   "source": [
    "The scale model only has an intercept and no perfect confounding, accordingly, no constraints are necessary:"
   ]
  },
  {
   "cell_type": "code",
   "execution_count": 9,
   "metadata": {},
   "outputs": [],
   "source": [
    "constraints_scale = None"
   ]
  },
  {
   "cell_type": "markdown",
   "metadata": {},
   "source": [
    "## Run model fitting and differential expression test:"
   ]
  },
  {
   "cell_type": "markdown",
   "metadata": {},
   "source": [
    "Here, we perform a single-coefficient Wald test on the treatment effect, accounting for all confounders by using the above defined constraints:"
   ]
  },
  {
   "cell_type": "code",
   "execution_count": 10,
   "metadata": {
    "scrolled": true
   },
   "outputs": [
    {
     "name": "stdout",
     "output_type": "stream",
     "text": [
      "INFO:diffxpy.testing.base:Fitting model...\n"
     ]
    },
    {
     "name": "stderr",
     "output_type": "stream",
     "text": [
      "/Users/david.fischer/miniconda3/lib/python3.6/site-packages/tensorflow/python/util/tf_inspect.py:75: DeprecationWarning: inspect.getargspec() is deprecated, use inspect.signature() or inspect.getfullargspec()\n",
      "  return _inspect.getargspec(target)\n",
      "/Users/david.fischer/miniconda3/lib/python3.6/site-packages/tensorflow/python/util/tf_inspect.py:75: DeprecationWarning: inspect.getargspec() is deprecated, use inspect.signature() or inspect.getfullargspec()\n",
      "  return _inspect.getargspec(target)\n",
      "/Users/david.fischer/miniconda3/lib/python3.6/site-packages/tensorflow/python/util/tf_inspect.py:75: DeprecationWarning: inspect.getargspec() is deprecated, use inspect.signature() or inspect.getfullargspec()\n",
      "  return _inspect.getargspec(target)\n",
      "/Users/david.fischer/miniconda3/lib/python3.6/site-packages/tensorflow/python/util/tf_inspect.py:75: DeprecationWarning: inspect.getargspec() is deprecated, use inspect.signature() or inspect.getfullargspec()\n",
      "  return _inspect.getargspec(target)\n"
     ]
    }
   ],
   "source": [
    "logging.getLogger(\"tensorflow\").setLevel(logging.ERROR)\n",
    "logging.getLogger(\"batchglm\").setLevel(logging.INFO)\n",
    "logging.getLogger(\"diffxpy\").setLevel(logging.INFO)\n",
    "\n",
    "import diffxpy.api as de\n",
    "\n",
    "test = de.test.wald(\n",
    "    data = sim.X,\n",
    "    dmat_loc = dmat_est_loc.data_vars['design'],\n",
    "    dmat_scale = dmat_est_scale.data_vars['design'],\n",
    "    constraints_loc = constraints_loc,\n",
    "    constraints_scale = constraints_scale,\n",
    "    coef_to_test=[\"treatment\"],\n",
    "    batch_size=100,\n",
    "    training_strategy=\"DEFAULT\",\n",
    "    dtype=\"float64\"\n",
    ")"
   ]
  },
  {
   "cell_type": "markdown",
   "metadata": {},
   "source": [
    "### Obtain the results"
   ]
  },
  {
   "cell_type": "code",
   "execution_count": 11,
   "metadata": {},
   "outputs": [
    {
     "data": {
      "text/html": [
       "<div>\n",
       "<style scoped>\n",
       "    .dataframe tbody tr th:only-of-type {\n",
       "        vertical-align: middle;\n",
       "    }\n",
       "\n",
       "    .dataframe tbody tr th {\n",
       "        vertical-align: top;\n",
       "    }\n",
       "\n",
       "    .dataframe thead th {\n",
       "        text-align: right;\n",
       "    }\n",
       "</style>\n",
       "<table border=\"1\" class=\"dataframe\">\n",
       "  <thead>\n",
       "    <tr style=\"text-align: right;\">\n",
       "      <th></th>\n",
       "      <th>gene</th>\n",
       "      <th>pval</th>\n",
       "      <th>qval</th>\n",
       "      <th>log2fc</th>\n",
       "      <th>mean</th>\n",
       "      <th>grad</th>\n",
       "      <th>coef_mle</th>\n",
       "      <th>coef_sd</th>\n",
       "      <th>ll</th>\n",
       "    </tr>\n",
       "  </thead>\n",
       "  <tbody>\n",
       "    <tr>\n",
       "      <th>0</th>\n",
       "      <td>0</td>\n",
       "      <td>0.317380</td>\n",
       "      <td>0.985871</td>\n",
       "      <td>-0.039117</td>\n",
       "      <td>451.0440</td>\n",
       "      <td>-4.326098e-02</td>\n",
       "      <td>-0.039117</td>\n",
       "      <td>0.039123</td>\n",
       "      <td>-14180.695125</td>\n",
       "    </tr>\n",
       "    <tr>\n",
       "      <th>1</th>\n",
       "      <td>1</td>\n",
       "      <td>0.950884</td>\n",
       "      <td>0.987321</td>\n",
       "      <td>-0.002378</td>\n",
       "      <td>656.1170</td>\n",
       "      <td>-1.347041e+00</td>\n",
       "      <td>-0.002378</td>\n",
       "      <td>0.038605</td>\n",
       "      <td>-14923.923324</td>\n",
       "    </tr>\n",
       "    <tr>\n",
       "      <th>2</th>\n",
       "      <td>2</td>\n",
       "      <td>0.513693</td>\n",
       "      <td>0.985871</td>\n",
       "      <td>0.025057</td>\n",
       "      <td>413.2730</td>\n",
       "      <td>1.670117e-01</td>\n",
       "      <td>0.025057</td>\n",
       "      <td>0.038366</td>\n",
       "      <td>-13996.365759</td>\n",
       "    </tr>\n",
       "    <tr>\n",
       "      <th>3</th>\n",
       "      <td>3</td>\n",
       "      <td>0.801374</td>\n",
       "      <td>0.985871</td>\n",
       "      <td>-0.017082</td>\n",
       "      <td>793.3810</td>\n",
       "      <td>-6.096093e-08</td>\n",
       "      <td>-0.017082</td>\n",
       "      <td>0.067900</td>\n",
       "      <td>-14739.420948</td>\n",
       "    </tr>\n",
       "    <tr>\n",
       "      <th>4</th>\n",
       "      <td>4</td>\n",
       "      <td>0.926719</td>\n",
       "      <td>0.985871</td>\n",
       "      <td>0.003433</td>\n",
       "      <td>710.1535</td>\n",
       "      <td>-1.501301e+00</td>\n",
       "      <td>0.003433</td>\n",
       "      <td>0.037325</td>\n",
       "      <td>-15059.294609</td>\n",
       "    </tr>\n",
       "    <tr>\n",
       "      <th>5</th>\n",
       "      <td>5</td>\n",
       "      <td>0.515496</td>\n",
       "      <td>0.985871</td>\n",
       "      <td>-0.028864</td>\n",
       "      <td>578.4535</td>\n",
       "      <td>1.261922e-02</td>\n",
       "      <td>-0.028864</td>\n",
       "      <td>0.044385</td>\n",
       "      <td>-14721.615679</td>\n",
       "    </tr>\n",
       "    <tr>\n",
       "      <th>6</th>\n",
       "      <td>6</td>\n",
       "      <td>0.602946</td>\n",
       "      <td>0.985871</td>\n",
       "      <td>0.017733</td>\n",
       "      <td>415.8000</td>\n",
       "      <td>-1.703165e+00</td>\n",
       "      <td>0.017733</td>\n",
       "      <td>0.034090</td>\n",
       "      <td>-13909.859670</td>\n",
       "    </tr>\n",
       "    <tr>\n",
       "      <th>7</th>\n",
       "      <td>7</td>\n",
       "      <td>0.235866</td>\n",
       "      <td>0.985871</td>\n",
       "      <td>0.038162</td>\n",
       "      <td>407.7570</td>\n",
       "      <td>-1.026495e+01</td>\n",
       "      <td>0.038162</td>\n",
       "      <td>0.032194</td>\n",
       "      <td>-13805.404214</td>\n",
       "    </tr>\n",
       "    <tr>\n",
       "      <th>8</th>\n",
       "      <td>8</td>\n",
       "      <td>0.641204</td>\n",
       "      <td>0.985871</td>\n",
       "      <td>0.015270</td>\n",
       "      <td>367.4930</td>\n",
       "      <td>-6.644658e+00</td>\n",
       "      <td>0.015270</td>\n",
       "      <td>0.032766</td>\n",
       "      <td>-13619.788449</td>\n",
       "    </tr>\n",
       "    <tr>\n",
       "      <th>9</th>\n",
       "      <td>9</td>\n",
       "      <td>0.860740</td>\n",
       "      <td>0.985871</td>\n",
       "      <td>-0.008530</td>\n",
       "      <td>441.9455</td>\n",
       "      <td>2.360530e-03</td>\n",
       "      <td>-0.008530</td>\n",
       "      <td>0.048622</td>\n",
       "      <td>-14164.940770</td>\n",
       "    </tr>\n",
       "  </tbody>\n",
       "</table>\n",
       "</div>"
      ],
      "text/plain": [
       "   gene      pval      qval    log2fc      mean          grad  coef_mle  \\\n",
       "0     0  0.317380  0.985871 -0.039117  451.0440 -4.326098e-02 -0.039117   \n",
       "1     1  0.950884  0.987321 -0.002378  656.1170 -1.347041e+00 -0.002378   \n",
       "2     2  0.513693  0.985871  0.025057  413.2730  1.670117e-01  0.025057   \n",
       "3     3  0.801374  0.985871 -0.017082  793.3810 -6.096093e-08 -0.017082   \n",
       "4     4  0.926719  0.985871  0.003433  710.1535 -1.501301e+00  0.003433   \n",
       "5     5  0.515496  0.985871 -0.028864  578.4535  1.261922e-02 -0.028864   \n",
       "6     6  0.602946  0.985871  0.017733  415.8000 -1.703165e+00  0.017733   \n",
       "7     7  0.235866  0.985871  0.038162  407.7570 -1.026495e+01  0.038162   \n",
       "8     8  0.641204  0.985871  0.015270  367.4930 -6.644658e+00  0.015270   \n",
       "9     9  0.860740  0.985871 -0.008530  441.9455  2.360530e-03 -0.008530   \n",
       "\n",
       "    coef_sd            ll  \n",
       "0  0.039123 -14180.695125  \n",
       "1  0.038605 -14923.923324  \n",
       "2  0.038366 -13996.365759  \n",
       "3  0.067900 -14739.420948  \n",
       "4  0.037325 -15059.294609  \n",
       "5  0.044385 -14721.615679  \n",
       "6  0.034090 -13909.859670  \n",
       "7  0.032194 -13805.404214  \n",
       "8  0.032766 -13619.788449  \n",
       "9  0.048622 -14164.940770  "
      ]
     },
     "execution_count": 11,
     "metadata": {},
     "output_type": "execute_result"
    }
   ],
   "source": [
    "test.summary().iloc[:10,:]"
   ]
  },
  {
   "cell_type": "code",
   "execution_count": 12,
   "metadata": {
    "scrolled": true
   },
   "outputs": [
    {
     "data": {
      "image/png": "[encoded data removed]",
      "text/plain": [
       "<Figure size 432x288 with 1 Axes>"
      ]
     },
     "metadata": {
      "needs_background": "light"
     },
     "output_type": "display_data"
    },
    {
     "data": {
      "text/plain": [
       "<matplotlib.axes._subplots.AxesSubplot at 0x1c1f0c6ef0>"
      ]
     },
     "execution_count": 12,
     "metadata": {},
     "output_type": "execute_result"
    }
   ],
   "source": [
    "test.plot_volcano()"
   ]
  }
 ],
 "metadata": {
  "kernelspec": {
   "display_name": "Python 3",
   "language": "python",
   "name": "python3"
  },
  "language_info": {
   "codemirror_mode": {
    "name": "ipython",
    "version": 3
   },
   "file_extension": ".py",
   "mimetype": "text/x-python",
   "name": "python",
   "nbconvert_exporter": "python",
   "pygments_lexer": "ipython3",
   "version": "3.6.5"
  },
  "toc": {
   "base_numbering": 1,
   "nav_menu": {},
   "number_sections": false,
   "sideBar": false,
   "skip_h1_title": false,
   "title_cell": "Table of Contents",
   "title_sidebar": "Contents",
   "toc_cell": false,
   "toc_position": {},
   "toc_section_display": false,
   "toc_window_display": false
  }
 },
 "nbformat": 4,
 "nbformat_minor": 1
}
